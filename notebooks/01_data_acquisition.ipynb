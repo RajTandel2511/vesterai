{
 "cells": [
  {
   "cell_type": "code",
   "execution_count": 15,
   "id": "492a5825-89f2-4907-b36b-a1f6ac098978",
   "metadata": {},
   "outputs": [
    {
     "data": {
      "text/plain": [
       "'\\nObjective:\\nCollect and store multi-source financial data for further sentiment and predictive analysis.\\n\\nData Sources:\\n1. Historical Stock Price Data (Yahoo Finance)\\n2. Financial News Headlines (Google News)\\n3. [Optional] Twitter / Reddit Sentiment Data\\n\\nAll raw data will be saved in the `data/raw/` folder.\\n'"
      ]
     },
     "execution_count": 15,
     "metadata": {},
     "output_type": "execute_result"
    }
   ],
   "source": [
    "# VesterAI - Notebook 01: Data Acquisition\n",
    "\n",
    "\"\"\"\n",
    "Objective:\n",
    "Collect and store multi-source financial data for further sentiment and predictive analysis.\n",
    "\n",
    "Data Sources:\n",
    "1. Historical Stock Price Data (Yahoo Finance)\n",
    "2. Financial News Headlines (Google News)\n",
    "3. [Optional] Twitter / Reddit Sentiment Data\n",
    "\n",
    "All raw data will be saved in the `data/raw/` folder.\n",
    "\"\"\""
   ]
  },
  {
   "cell_type": "code",
   "execution_count": 16,
   "id": "52348d64-85c6-4e6c-852a-ceb4062cb241",
   "metadata": {},
   "outputs": [],
   "source": [
    "# Install missing libraries (if any)\n",
    "!pip install yfinance requests beautifulsoup4 pandas --quiet\n",
    "!pip install -U jupyterlab ipywidgets jupyterlab-widgets\n",
    "\n",
    "# Imports\n",
    "import yfinance as yf\n",
    "import pandas as pd\n",
    "import requests\n",
    "from bs4 import BeautifulSoup\n",
    "import datetime\n",
    "import os"
   ]
  },
  {
   "cell_type": "code",
   "execution_count": 17,
   "id": "519457e6-f851-4873-a4ba-9cde4038bcd8",
   "metadata": {},
   "outputs": [
    {
     "name": "stdout",
     "output_type": "stream",
     "text": [
      "Raw data will be saved in: ../data/raw\n"
     ]
    }
   ],
   "source": [
    "# Setup: Raw data directory path\n",
    "raw_data_path = \"../data/raw\"\n",
    "os.makedirs(raw_data_path, exist_ok=True)\n",
    "print(f\"Raw data will be saved in: {raw_data_path}\")"
   ]
  },
  {
   "cell_type": "code",
   "execution_count": 18,
   "id": "07699569-bd8c-4c6e-af00-ac61ff889fef",
   "metadata": {},
   "outputs": [
    {
     "name": "stderr",
     "output_type": "stream",
     "text": [
      "[*********************100%***********************]  1 of 1 completed"
     ]
    },
    {
     "name": "stdout",
     "output_type": "stream",
     "text": [
      "AAPL stock data saved to: ../data/raw/AAPL_stock_data.csv\n"
     ]
    },
    {
     "name": "stderr",
     "output_type": "stream",
     "text": [
      "\n"
     ]
    },
    {
     "data": {
      "text/html": [
       "<div>\n",
       "<style scoped>\n",
       "    .dataframe tbody tr th:only-of-type {\n",
       "        vertical-align: middle;\n",
       "    }\n",
       "\n",
       "    .dataframe tbody tr th {\n",
       "        vertical-align: top;\n",
       "    }\n",
       "\n",
       "    .dataframe thead tr th {\n",
       "        text-align: left;\n",
       "    }\n",
       "</style>\n",
       "<table border=\"1\" class=\"dataframe\">\n",
       "  <thead>\n",
       "    <tr>\n",
       "      <th>Price</th>\n",
       "      <th>Date</th>\n",
       "      <th>Close</th>\n",
       "      <th>High</th>\n",
       "      <th>Low</th>\n",
       "      <th>Open</th>\n",
       "      <th>Volume</th>\n",
       "    </tr>\n",
       "    <tr>\n",
       "      <th>Ticker</th>\n",
       "      <th></th>\n",
       "      <th>AAPL</th>\n",
       "      <th>AAPL</th>\n",
       "      <th>AAPL</th>\n",
       "      <th>AAPL</th>\n",
       "      <th>AAPL</th>\n",
       "    </tr>\n",
       "  </thead>\n",
       "  <tbody>\n",
       "    <tr>\n",
       "      <th>0</th>\n",
       "      <td>2020-01-02</td>\n",
       "      <td>72.716072</td>\n",
       "      <td>72.776598</td>\n",
       "      <td>71.466812</td>\n",
       "      <td>71.721019</td>\n",
       "      <td>135480400</td>\n",
       "    </tr>\n",
       "    <tr>\n",
       "      <th>1</th>\n",
       "      <td>2020-01-03</td>\n",
       "      <td>72.009125</td>\n",
       "      <td>72.771752</td>\n",
       "      <td>71.783969</td>\n",
       "      <td>71.941336</td>\n",
       "      <td>146322800</td>\n",
       "    </tr>\n",
       "    <tr>\n",
       "      <th>2</th>\n",
       "      <td>2020-01-06</td>\n",
       "      <td>72.582909</td>\n",
       "      <td>72.621646</td>\n",
       "      <td>70.876075</td>\n",
       "      <td>71.127866</td>\n",
       "      <td>118387200</td>\n",
       "    </tr>\n",
       "    <tr>\n",
       "      <th>3</th>\n",
       "      <td>2020-01-07</td>\n",
       "      <td>72.241554</td>\n",
       "      <td>72.849231</td>\n",
       "      <td>72.021238</td>\n",
       "      <td>72.592601</td>\n",
       "      <td>108872000</td>\n",
       "    </tr>\n",
       "    <tr>\n",
       "      <th>4</th>\n",
       "      <td>2020-01-08</td>\n",
       "      <td>73.403648</td>\n",
       "      <td>73.706279</td>\n",
       "      <td>71.943759</td>\n",
       "      <td>71.943759</td>\n",
       "      <td>132079200</td>\n",
       "    </tr>\n",
       "  </tbody>\n",
       "</table>\n",
       "</div>"
      ],
      "text/plain": [
       "Price        Date      Close       High        Low       Open     Volume\n",
       "Ticker                  AAPL       AAPL       AAPL       AAPL       AAPL\n",
       "0      2020-01-02  72.716072  72.776598  71.466812  71.721019  135480400\n",
       "1      2020-01-03  72.009125  72.771752  71.783969  71.941336  146322800\n",
       "2      2020-01-06  72.582909  72.621646  70.876075  71.127866  118387200\n",
       "3      2020-01-07  72.241554  72.849231  72.021238  72.592601  108872000\n",
       "4      2020-01-08  73.403648  73.706279  71.943759  71.943759  132079200"
      ]
     },
     "execution_count": 18,
     "metadata": {},
     "output_type": "execute_result"
    }
   ],
   "source": [
    "# Function to fetch historical stock prices\n",
    "def fetch_stock_data(ticker=\"AAPL\", start=\"2020-01-01\", end=None):\n",
    "    if end is None:\n",
    "        end = datetime.datetime.today().strftime('%Y-%m-%d')\n",
    "    df = yf.download(ticker, start=start, end=end)\n",
    "    df.reset_index(inplace=True)\n",
    "    return df\n",
    "\n",
    "# Fetch example data for AAPL (Apple Inc.)\n",
    "stock_df = fetch_stock_data(\"AAPL\", start=\"2020-01-01\")\n",
    "stock_file_path = os.path.join(raw_data_path, \"AAPL_stock_data.csv\")\n",
    "stock_df.to_csv(stock_file_path, index=False)\n",
    "\n",
    "print(f\"AAPL stock data saved to: {stock_file_path}\")\n",
    "stock_df.head()"
   ]
  },
  {
   "cell_type": "code",
   "execution_count": 19,
   "id": "527a5896-e6fe-4d99-acee-235430c7ea26",
   "metadata": {},
   "outputs": [
    {
     "name": "stdout",
     "output_type": "stream",
     "text": [
      "AAPL news data saved to: ../data/raw/AAPL_google_news.csv\n"
     ]
    },
    {
     "data": {
      "text/html": [
       "<div>\n",
       "<style scoped>\n",
       "    .dataframe tbody tr th:only-of-type {\n",
       "        vertical-align: middle;\n",
       "    }\n",
       "\n",
       "    .dataframe tbody tr th {\n",
       "        vertical-align: top;\n",
       "    }\n",
       "\n",
       "    .dataframe thead th {\n",
       "        text-align: right;\n",
       "    }\n",
       "</style>\n",
       "<table border=\"1\" class=\"dataframe\">\n",
       "  <thead>\n",
       "    <tr style=\"text-align: right;\">\n",
       "      <th></th>\n",
       "      <th>ticker</th>\n",
       "      <th>headline</th>\n",
       "      <th>source</th>\n",
       "      <th>date</th>\n",
       "    </tr>\n",
       "  </thead>\n",
       "  <tbody>\n",
       "    <tr>\n",
       "      <th>0</th>\n",
       "      <td>AAPL</td>\n",
       "      <td>NasdaqMoreAAPL Quantitative Stock Analysis9 ho...</td>\n",
       "      <td>Google News</td>\n",
       "      <td>2025-03-25</td>\n",
       "    </tr>\n",
       "    <tr>\n",
       "      <th>1</th>\n",
       "      <td>AAPL</td>\n",
       "      <td>TipRanksMoreApple (AAPL) Stock Shoots Higher o...</td>\n",
       "      <td>Google News</td>\n",
       "      <td>2025-03-25</td>\n",
       "    </tr>\n",
       "    <tr>\n",
       "      <th>2</th>\n",
       "      <td>AAPL</td>\n",
       "      <td>Seeking AlphaMoreApple: Buy Now Before The iPh...</td>\n",
       "      <td>Google News</td>\n",
       "      <td>2025-03-25</td>\n",
       "    </tr>\n",
       "    <tr>\n",
       "      <th>3</th>\n",
       "      <td>AAPL</td>\n",
       "      <td>Yahoo FinanceMoreApple Inc. (AAPL): Among the ...</td>\n",
       "      <td>Google News</td>\n",
       "      <td>2025-03-25</td>\n",
       "    </tr>\n",
       "    <tr>\n",
       "      <th>4</th>\n",
       "      <td>AAPL</td>\n",
       "      <td>Markets InsiderMoreDon’t Expect an AI Upgrade ...</td>\n",
       "      <td>Google News</td>\n",
       "      <td>2025-03-25</td>\n",
       "    </tr>\n",
       "  </tbody>\n",
       "</table>\n",
       "</div>"
      ],
      "text/plain": [
       "  ticker                                           headline       source  \\\n",
       "0   AAPL  NasdaqMoreAAPL Quantitative Stock Analysis9 ho...  Google News   \n",
       "1   AAPL  TipRanksMoreApple (AAPL) Stock Shoots Higher o...  Google News   \n",
       "2   AAPL  Seeking AlphaMoreApple: Buy Now Before The iPh...  Google News   \n",
       "3   AAPL  Yahoo FinanceMoreApple Inc. (AAPL): Among the ...  Google News   \n",
       "4   AAPL  Markets InsiderMoreDon’t Expect an AI Upgrade ...  Google News   \n",
       "\n",
       "         date  \n",
       "0  2025-03-25  \n",
       "1  2025-03-25  \n",
       "2  2025-03-25  \n",
       "3  2025-03-25  \n",
       "4  2025-03-25  "
      ]
     },
     "execution_count": 19,
     "metadata": {},
     "output_type": "execute_result"
    }
   ],
   "source": [
    "# Function to scrape news from Google News\n",
    "def fetch_google_news(ticker=\"AAPL\", num_articles=20):\n",
    "    query = f\"{ticker} stock\"\n",
    "    url = f\"https://news.google.com/search?q={query}&hl=en-US&gl=US&ceid=US:en\"\n",
    "    \n",
    "    headers = {'User-Agent': 'Mozilla/5.0'}\n",
    "    response = requests.get(url, headers=headers)\n",
    "    soup = BeautifulSoup(response.text, \"html.parser\")\n",
    "\n",
    "    articles = soup.find_all(\"article\")\n",
    "    news_data = []\n",
    "\n",
    "    for article in articles[:num_articles]:\n",
    "        headline = article.text.strip()\n",
    "        if headline:\n",
    "            news_data.append({\n",
    "                \"ticker\": ticker,\n",
    "                \"headline\": headline,\n",
    "                \"source\": \"Google News\",\n",
    "                \"date\": datetime.datetime.now().strftime(\"%Y-%m-%d\")\n",
    "            })\n",
    "\n",
    "    return pd.DataFrame(news_data)\n",
    "\n",
    "# Fetch financial news\n",
    "news_df = fetch_google_news(\"AAPL\", num_articles=20)\n",
    "news_file_path = os.path.join(raw_data_path, \"AAPL_google_news.csv\")\n",
    "news_df.to_csv(news_file_path, index=False)\n",
    "\n",
    "print(f\"AAPL news data saved to: {news_file_path}\")\n",
    "news_df.head()"
   ]
  },
  {
   "cell_type": "code",
   "execution_count": 20,
   "id": "559b2683-0489-4906-9905-204355a95459",
   "metadata": {},
   "outputs": [
    {
     "name": "stdout",
     "output_type": "stream",
     "text": [
      "Twitter/Reddit sentiment scraping will be added in a separate notebook using APIs.\n"
     ]
    }
   ],
   "source": [
    "# Optional future work\n",
    "print(\"Twitter/Reddit sentiment scraping will be added in a separate notebook using APIs.\")"
   ]
  },
  {
   "cell_type": "code",
   "execution_count": 21,
   "id": "6e2820d0-84cc-43c7-86f1-b7a6e989ce13",
   "metadata": {},
   "outputs": [
    {
     "name": "stdout",
     "output_type": "stream",
     "text": [
      "Data Acquisition Summary:\n",
      "Stock data saved: ../data/raw/AAPL_stock_data.csv → 1313 records\n",
      "News data saved: ../data/raw/AAPL_google_news.csv → 20 headlines\n",
      "\n",
      "Next: Sentiment labeling and feature alignment in Notebook 02.\n"
     ]
    }
   ],
   "source": [
    "print(\"Data Acquisition Summary:\")\n",
    "print(f\"Stock data saved: {stock_file_path} → {len(stock_df)} records\")\n",
    "print(f\"News data saved: {news_file_path} → {len(news_df)} headlines\")\n",
    "print(\"\\nNext: Sentiment labeling and feature alignment in Notebook 02.\")"
   ]
  }
 ],
 "metadata": {
  "kernelspec": {
   "display_name": "Python 3 (ipykernel)",
   "language": "python",
   "name": "python3"
  },
  "language_info": {
   "codemirror_mode": {
    "name": "ipython",
    "version": 3
   },
   "file_extension": ".py",
   "mimetype": "text/x-python",
   "name": "python",
   "nbconvert_exporter": "python",
   "pygments_lexer": "ipython3",
   "version": "3.8.8"
  }
 },
 "nbformat": 4,
 "nbformat_minor": 5
}
