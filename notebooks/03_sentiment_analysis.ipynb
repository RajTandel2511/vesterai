{
 "cells": [
  {
   "cell_type": "code",
   "execution_count": 1,
   "id": "6dcfc1c2-4645-4ba9-abe8-e367a855cd31",
   "metadata": {},
   "outputs": [
    {
     "data": {
      "text/plain": [
       "\"\\nObjective:\\nUse NLP models to assign sentiment labels (positive, negative, neutral) to financial text data.\\nWe'll use:\\n1. FinBERT (fine-tuned on financial corpora)\\n2. VADER (rule-based baseline)\\n3. Optional: DistilBERT or RoBERTa for comparison\\n\\nOutput:\\nCleaned datasets with sentiment scores → to be merged with stock data later.\\n\""
      ]
     },
     "execution_count": 1,
     "metadata": {},
     "output_type": "execute_result"
    }
   ],
   "source": [
    "# VesterAI - Notebook 03: Sentiment Analysis (News, Twitter, Reddit)\n",
    "\n",
    "\"\"\"\n",
    "Objective:\n",
    "Use NLP models to assign sentiment labels (positive, negative, neutral) to financial text data.\n",
    "We'll use:\n",
    "1. FinBERT (fine-tuned on financial corpora)\n",
    "2. VADER (rule-based baseline)\n",
    "3. Optional: DistilBERT or RoBERTa for comparison\n",
    "\n",
    "Output:\n",
    "Cleaned datasets with sentiment scores → to be merged with stock data later.\n",
    "\"\"\""
   ]
  },
  {
   "cell_type": "code",
   "execution_count": 14,
   "id": "0b3a9df3-808b-4235-bd6e-560706b084a2",
   "metadata": {},
   "outputs": [
    {
     "name": "stdout",
     "output_type": "stream",
     "text": [
      "huggingface/tokenizers: The current process just got forked, after parallelism has already been used. Disabling parallelism to avoid deadlocks...\n",
      "To disable this warning, you can either:\n",
      "\t- Avoid using `tokenizers` before the fork if possible\n",
      "\t- Explicitly set the environment variable TOKENIZERS_PARALLELISM=(true | false)\n",
      "huggingface/tokenizers: The current process just got forked, after parallelism has already been used. Disabling parallelism to avoid deadlocks...\n",
      "To disable this warning, you can either:\n",
      "\t- Avoid using `tokenizers` before the fork if possible\n",
      "\t- Explicitly set the environment variable TOKENIZERS_PARALLELISM=(true | false)\n",
      "huggingface/tokenizers: The current process just got forked, after parallelism has already been used. Disabling parallelism to avoid deadlocks...\n",
      "To disable this warning, you can either:\n",
      "\t- Avoid using `tokenizers` before the fork if possible\n",
      "\t- Explicitly set the environment variable TOKENIZERS_PARALLELISM=(true | false)\n",
      "Defaulting to user installation because normal site-packages is not writeable\n",
      "Requirement already satisfied: jupyterlab in /home/tandel.r/.local/lib/python3.8/site-packages (4.3.5)\n",
      "Collecting jupyterlab\n",
      "  Downloading jupyterlab-4.3.6-py3-none-any.whl (11.7 MB)\n",
      "\u001b[K     |████████████████████████████████| 11.7 MB 13.3 MB/s eta 0:00:01\n",
      "\u001b[?25hRequirement already satisfied: ipywidgets in /shared/centos7/anaconda3/2021.05/lib/python3.8/site-packages (7.6.3)\n",
      "Collecting ipywidgets\n",
      "  Downloading ipywidgets-8.1.5-py3-none-any.whl (139 kB)\n",
      "\u001b[K     |████████████████████████████████| 139 kB 16.4 MB/s eta 0:00:01\n",
      "\u001b[?25hRequirement already satisfied: jupyterlab-widgets in /shared/centos7/anaconda3/2021.05/lib/python3.8/site-packages (1.0.0)\n",
      "Collecting jupyterlab-widgets\n",
      "  Downloading jupyterlab_widgets-3.0.13-py3-none-any.whl (214 kB)\n",
      "\u001b[K     |████████████████████████████████| 214 kB 16.6 MB/s eta 0:00:01\n",
      "\u001b[?25hRequirement already satisfied: comm>=0.1.3 in /home/tandel.r/.local/lib/python3.8/site-packages (from ipywidgets) (0.2.2)\n",
      "Requirement already satisfied: traitlets>=4.3.1 in /home/tandel.r/.local/lib/python3.8/site-packages (from ipywidgets) (5.14.3)\n",
      "Requirement already satisfied: ipython>=6.1.0 in /home/tandel.r/.local/lib/python3.8/site-packages (from ipywidgets) (8.12.3)\n",
      "Collecting widgetsnbextension~=4.0.12\n",
      "  Downloading widgetsnbextension-4.0.13-py3-none-any.whl (2.3 MB)\n",
      "\u001b[K     |████████████████████████████████| 2.3 MB 16.0 MB/s eta 0:00:01\n",
      "\u001b[?25hRequirement already satisfied: prompt-toolkit!=3.0.37,<3.1.0,>=3.0.30 in /home/tandel.r/.local/lib/python3.8/site-packages (from ipython>=6.1.0->ipywidgets) (3.0.50)\n",
      "Requirement already satisfied: backcall in /shared/centos7/anaconda3/2021.05/lib/python3.8/site-packages (from ipython>=6.1.0->ipywidgets) (0.2.0)\n",
      "Requirement already satisfied: pickleshare in /shared/centos7/anaconda3/2021.05/lib/python3.8/site-packages (from ipython>=6.1.0->ipywidgets) (0.7.5)\n",
      "Requirement already satisfied: decorator in /shared/centos7/anaconda3/2021.05/lib/python3.8/site-packages (from ipython>=6.1.0->ipywidgets) (5.0.6)\n",
      "Requirement already satisfied: jedi>=0.16 in /shared/centos7/anaconda3/2021.05/lib/python3.8/site-packages (from ipython>=6.1.0->ipywidgets) (0.17.2)\n",
      "Requirement already satisfied: stack-data in /home/tandel.r/.local/lib/python3.8/site-packages (from ipython>=6.1.0->ipywidgets) (0.6.3)\n",
      "Requirement already satisfied: pygments>=2.4.0 in /home/tandel.r/.local/lib/python3.8/site-packages (from ipython>=6.1.0->ipywidgets) (2.19.1)\n",
      "Requirement already satisfied: pexpect>4.3 in /shared/centos7/anaconda3/2021.05/lib/python3.8/site-packages (from ipython>=6.1.0->ipywidgets) (4.8.0)\n",
      "Requirement already satisfied: matplotlib-inline in /home/tandel.r/.local/lib/python3.8/site-packages (from ipython>=6.1.0->ipywidgets) (0.1.7)\n",
      "Requirement already satisfied: typing-extensions in /home/tandel.r/.local/lib/python3.8/site-packages (from ipython>=6.1.0->ipywidgets) (4.12.2)\n",
      "Requirement already satisfied: parso<0.8.0,>=0.7.0 in /shared/centos7/anaconda3/2021.05/lib/python3.8/site-packages (from jedi>=0.16->ipython>=6.1.0->ipywidgets) (0.7.0)\n",
      "Requirement already satisfied: ptyprocess>=0.5 in /shared/centos7/anaconda3/2021.05/lib/python3.8/site-packages (from pexpect>4.3->ipython>=6.1.0->ipywidgets) (0.7.0)\n",
      "Requirement already satisfied: wcwidth in /shared/centos7/anaconda3/2021.05/lib/python3.8/site-packages (from prompt-toolkit!=3.0.37,<3.1.0,>=3.0.30->ipython>=6.1.0->ipywidgets) (0.2.5)\n",
      "Requirement already satisfied: notebook-shim>=0.2 in /home/tandel.r/.local/lib/python3.8/site-packages (from jupyterlab) (0.2.4)\n",
      "Requirement already satisfied: importlib-resources>=1.4 in /home/tandel.r/.local/lib/python3.8/site-packages (from jupyterlab) (6.4.5)\n",
      "Requirement already satisfied: jinja2>=3.0.3 in /home/tandel.r/.local/lib/python3.8/site-packages (from jupyterlab) (3.1.5)\n",
      "Requirement already satisfied: packaging in /home/tandel.r/.local/lib/python3.8/site-packages (from jupyterlab) (24.2)\n",
      "Requirement already satisfied: httpx>=0.25.0 in /home/tandel.r/.local/lib/python3.8/site-packages (from jupyterlab) (0.28.1)\n",
      "Requirement already satisfied: jupyter-server<3,>=2.4.0 in /home/tandel.r/.local/lib/python3.8/site-packages (from jupyterlab) (2.14.2)\n",
      "Requirement already satisfied: ipykernel>=6.5.0 in /home/tandel.r/.local/lib/python3.8/site-packages (from jupyterlab) (6.29.5)\n",
      "Requirement already satisfied: async-lru>=1.0.0 in /home/tandel.r/.local/lib/python3.8/site-packages (from jupyterlab) (2.0.4)\n",
      "Requirement already satisfied: jupyterlab-server<3,>=2.27.1 in /home/tandel.r/.local/lib/python3.8/site-packages (from jupyterlab) (2.27.3)\n",
      "Requirement already satisfied: tornado>=6.2.0 in /home/tandel.r/.local/lib/python3.8/site-packages (from jupyterlab) (6.4.2)\n",
      "Requirement already satisfied: setuptools>=40.8.0 in /shared/centos7/anaconda3/2021.05/lib/python3.8/site-packages (from jupyterlab) (52.0.0.post20210125)\n",
      "Requirement already satisfied: jupyter-core in /home/tandel.r/.local/lib/python3.8/site-packages (from jupyterlab) (5.7.2)\n",
      "Requirement already satisfied: jupyter-lsp>=2.0.0 in /home/tandel.r/.local/lib/python3.8/site-packages (from jupyterlab) (2.2.5)\n",
      "Requirement already satisfied: tomli>=1.2.2 in /home/tandel.r/.local/lib/python3.8/site-packages (from jupyterlab) (2.2.1)\n",
      "Requirement already satisfied: importlib-metadata>=4.8.3 in /home/tandel.r/.local/lib/python3.8/site-packages (from jupyterlab) (8.5.0)\n",
      "Requirement already satisfied: anyio in /home/tandel.r/.local/lib/python3.8/site-packages (from httpx>=0.25.0->jupyterlab) (4.5.2)\n",
      "Requirement already satisfied: httpcore==1.* in /home/tandel.r/.local/lib/python3.8/site-packages (from httpx>=0.25.0->jupyterlab) (1.0.7)\n",
      "Requirement already satisfied: idna in /shared/centos7/anaconda3/2021.05/lib/python3.8/site-packages (from httpx>=0.25.0->jupyterlab) (2.10)\n",
      "Requirement already satisfied: certifi in /shared/centos7/anaconda3/2021.05/lib/python3.8/site-packages (from httpx>=0.25.0->jupyterlab) (2020.12.5)\n",
      "Requirement already satisfied: h11<0.15,>=0.13 in /home/tandel.r/.local/lib/python3.8/site-packages (from httpcore==1.*->httpx>=0.25.0->jupyterlab) (0.14.0)\n",
      "Requirement already satisfied: zipp>=3.20 in /home/tandel.r/.local/lib/python3.8/site-packages (from importlib-metadata>=4.8.3->jupyterlab) (3.20.2)\n",
      "Requirement already satisfied: psutil in /shared/centos7/anaconda3/2021.05/lib/python3.8/site-packages (from ipykernel>=6.5.0->jupyterlab) (5.8.0)\n",
      "Requirement already satisfied: pyzmq>=24 in /home/tandel.r/.local/lib/python3.8/site-packages (from ipykernel>=6.5.0->jupyterlab) (26.2.1)\n",
      "Requirement already satisfied: jupyter-client>=6.1.12 in /home/tandel.r/.local/lib/python3.8/site-packages (from ipykernel>=6.5.0->jupyterlab) (8.6.3)\n",
      "Requirement already satisfied: nest-asyncio in /shared/centos7/anaconda3/2021.05/lib/python3.8/site-packages (from ipykernel>=6.5.0->jupyterlab) (1.5.1)\n",
      "Requirement already satisfied: debugpy>=1.6.5 in /home/tandel.r/.local/lib/python3.8/site-packages (from ipykernel>=6.5.0->jupyterlab) (1.8.12)\n",
      "Requirement already satisfied: MarkupSafe>=2.0 in /home/tandel.r/.local/lib/python3.8/site-packages (from jinja2>=3.0.3->jupyterlab) (2.1.5)\n",
      "Requirement already satisfied: python-dateutil>=2.8.2 in /home/tandel.r/.local/lib/python3.8/site-packages (from jupyter-client>=6.1.12->ipykernel>=6.5.0->jupyterlab) (2.9.0.post0)\n",
      "Requirement already satisfied: platformdirs>=2.5 in /home/tandel.r/.local/lib/python3.8/site-packages (from jupyter-core->jupyterlab) (4.3.6)\n",
      "Requirement already satisfied: argon2-cffi>=21.1 in /home/tandel.r/.local/lib/python3.8/site-packages (from jupyter-server<3,>=2.4.0->jupyterlab) (23.1.0)\n",
      "Requirement already satisfied: jupyter-server-terminals>=0.4.4 in /home/tandel.r/.local/lib/python3.8/site-packages (from jupyter-server<3,>=2.4.0->jupyterlab) (0.5.3)\n",
      "Requirement already satisfied: nbconvert>=6.4.4 in /home/tandel.r/.local/lib/python3.8/site-packages (from jupyter-server<3,>=2.4.0->jupyterlab) (7.16.6)\n",
      "Requirement already satisfied: overrides>=5.0 in /home/tandel.r/.local/lib/python3.8/site-packages (from jupyter-server<3,>=2.4.0->jupyterlab) (7.7.0)\n",
      "Requirement already satisfied: send2trash>=1.8.2 in /home/tandel.r/.local/lib/python3.8/site-packages (from jupyter-server<3,>=2.4.0->jupyterlab) (1.8.3)\n",
      "Requirement already satisfied: terminado>=0.8.3 in /shared/centos7/anaconda3/2021.05/lib/python3.8/site-packages (from jupyter-server<3,>=2.4.0->jupyterlab) (0.9.4)\n",
      "Requirement already satisfied: nbformat>=5.3.0 in /home/tandel.r/.local/lib/python3.8/site-packages (from jupyter-server<3,>=2.4.0->jupyterlab) (5.10.4)\n",
      "Requirement already satisfied: websocket-client>=1.7 in /home/tandel.r/.local/lib/python3.8/site-packages (from jupyter-server<3,>=2.4.0->jupyterlab) (1.8.0)\n",
      "Requirement already satisfied: jupyter-events>=0.9.0 in /home/tandel.r/.local/lib/python3.8/site-packages (from jupyter-server<3,>=2.4.0->jupyterlab) (0.10.0)\n",
      "Requirement already satisfied: prometheus-client>=0.9 in /shared/centos7/anaconda3/2021.05/lib/python3.8/site-packages (from jupyter-server<3,>=2.4.0->jupyterlab) (0.10.1)\n",
      "Requirement already satisfied: sniffio>=1.1 in /shared/centos7/anaconda3/2021.05/lib/python3.8/site-packages (from anyio->httpx>=0.25.0->jupyterlab) (1.2.0)\n",
      "Requirement already satisfied: exceptiongroup>=1.0.2 in /home/tandel.r/.local/lib/python3.8/site-packages (from anyio->httpx>=0.25.0->jupyterlab) (1.2.2)\n",
      "Requirement already satisfied: argon2-cffi-bindings in /home/tandel.r/.local/lib/python3.8/site-packages (from argon2-cffi>=21.1->jupyter-server<3,>=2.4.0->jupyterlab) (21.2.0)\n",
      "Requirement already satisfied: rfc3339-validator in /home/tandel.r/.local/lib/python3.8/site-packages (from jupyter-events>=0.9.0->jupyter-server<3,>=2.4.0->jupyterlab) (0.1.4)\n",
      "Requirement already satisfied: pyyaml>=5.3 in /home/tandel.r/.local/lib/python3.8/site-packages (from jupyter-events>=0.9.0->jupyter-server<3,>=2.4.0->jupyterlab) (6.0.2)\n",
      "Requirement already satisfied: referencing in /home/tandel.r/.local/lib/python3.8/site-packages (from jupyter-events>=0.9.0->jupyter-server<3,>=2.4.0->jupyterlab) (0.35.1)\n",
      "Requirement already satisfied: rfc3986-validator>=0.1.1 in /home/tandel.r/.local/lib/python3.8/site-packages (from jupyter-events>=0.9.0->jupyter-server<3,>=2.4.0->jupyterlab) (0.1.1)\n",
      "Requirement already satisfied: python-json-logger>=2.0.4 in /home/tandel.r/.local/lib/python3.8/site-packages (from jupyter-events>=0.9.0->jupyter-server<3,>=2.4.0->jupyterlab) (3.2.1)\n",
      "Requirement already satisfied: jsonschema[format-nongpl]>=4.18.0 in /home/tandel.r/.local/lib/python3.8/site-packages (from jupyter-events>=0.9.0->jupyter-server<3,>=2.4.0->jupyterlab) (4.23.0)\n",
      "Requirement already satisfied: attrs>=22.2.0 in /home/tandel.r/.local/lib/python3.8/site-packages (from jsonschema[format-nongpl]>=4.18.0->jupyter-events>=0.9.0->jupyter-server<3,>=2.4.0->jupyterlab) (25.1.0)\n",
      "Requirement already satisfied: jsonschema-specifications>=2023.03.6 in /home/tandel.r/.local/lib/python3.8/site-packages (from jsonschema[format-nongpl]>=4.18.0->jupyter-events>=0.9.0->jupyter-server<3,>=2.4.0->jupyterlab) (2023.12.1)\n",
      "Requirement already satisfied: rpds-py>=0.7.1 in /home/tandel.r/.local/lib/python3.8/site-packages (from jsonschema[format-nongpl]>=4.18.0->jupyter-events>=0.9.0->jupyter-server<3,>=2.4.0->jupyterlab) (0.20.1)\n",
      "Requirement already satisfied: pkgutil-resolve-name>=1.3.10 in /home/tandel.r/.local/lib/python3.8/site-packages (from jsonschema[format-nongpl]>=4.18.0->jupyter-events>=0.9.0->jupyter-server<3,>=2.4.0->jupyterlab) (1.3.10)\n",
      "Requirement already satisfied: isoduration in /home/tandel.r/.local/lib/python3.8/site-packages (from jsonschema[format-nongpl]>=4.18.0->jupyter-events>=0.9.0->jupyter-server<3,>=2.4.0->jupyterlab) (20.11.0)\n",
      "Requirement already satisfied: uri-template in /home/tandel.r/.local/lib/python3.8/site-packages (from jsonschema[format-nongpl]>=4.18.0->jupyter-events>=0.9.0->jupyter-server<3,>=2.4.0->jupyterlab) (1.3.0)\n",
      "Requirement already satisfied: webcolors>=24.6.0 in /home/tandel.r/.local/lib/python3.8/site-packages (from jsonschema[format-nongpl]>=4.18.0->jupyter-events>=0.9.0->jupyter-server<3,>=2.4.0->jupyterlab) (24.8.0)\n",
      "Requirement already satisfied: jsonpointer>1.13 in /home/tandel.r/.local/lib/python3.8/site-packages (from jsonschema[format-nongpl]>=4.18.0->jupyter-events>=0.9.0->jupyter-server<3,>=2.4.0->jupyterlab) (3.0.0)\n",
      "Requirement already satisfied: fqdn in /home/tandel.r/.local/lib/python3.8/site-packages (from jsonschema[format-nongpl]>=4.18.0->jupyter-events>=0.9.0->jupyter-server<3,>=2.4.0->jupyterlab) (1.5.1)\n",
      "Requirement already satisfied: requests>=2.31 in /home/tandel.r/.local/lib/python3.8/site-packages (from jupyterlab-server<3,>=2.27.1->jupyterlab) (2.32.3)\n",
      "Requirement already satisfied: babel>=2.10 in /home/tandel.r/.local/lib/python3.8/site-packages (from jupyterlab-server<3,>=2.27.1->jupyterlab) (2.17.0)\n",
      "Requirement already satisfied: json5>=0.9.0 in /shared/centos7/anaconda3/2021.05/lib/python3.8/site-packages (from jupyterlab-server<3,>=2.27.1->jupyterlab) (0.9.5)\n",
      "Requirement already satisfied: pytz>=2015.7 in /home/tandel.r/.local/lib/python3.8/site-packages (from babel>=2.10->jupyterlab-server<3,>=2.27.1->jupyterlab) (2025.2)\n",
      "Requirement already satisfied: nbclient>=0.5.0 in /shared/centos7/anaconda3/2021.05/lib/python3.8/site-packages (from nbconvert>=6.4.4->jupyter-server<3,>=2.4.0->jupyterlab) (0.5.3)\n",
      "Requirement already satisfied: mistune<4,>=2.0.3 in /home/tandel.r/.local/lib/python3.8/site-packages (from nbconvert>=6.4.4->jupyter-server<3,>=2.4.0->jupyterlab) (3.1.2)\n",
      "Requirement already satisfied: bleach[css]!=5.0.0 in /shared/centos7/anaconda3/2021.05/lib/python3.8/site-packages (from nbconvert>=6.4.4->jupyter-server<3,>=2.4.0->jupyterlab) (3.3.0)\n",
      "Requirement already satisfied: pandocfilters>=1.4.1 in /shared/centos7/anaconda3/2021.05/lib/python3.8/site-packages (from nbconvert>=6.4.4->jupyter-server<3,>=2.4.0->jupyterlab) (1.4.3)\n",
      "Requirement already satisfied: defusedxml in /shared/centos7/anaconda3/2021.05/lib/python3.8/site-packages (from nbconvert>=6.4.4->jupyter-server<3,>=2.4.0->jupyterlab) (0.7.1)\n",
      "Requirement already satisfied: jupyterlab-pygments in /shared/centos7/anaconda3/2021.05/lib/python3.8/site-packages (from nbconvert>=6.4.4->jupyter-server<3,>=2.4.0->jupyterlab) (0.1.2)\n",
      "Requirement already satisfied: beautifulsoup4 in /home/tandel.r/.local/lib/python3.8/site-packages (from nbconvert>=6.4.4->jupyter-server<3,>=2.4.0->jupyterlab) (4.13.3)\n",
      "\u001b[33mWARNING: bleach 3.3.0 does not provide the extra 'css'\u001b[0m\n",
      "Requirement already satisfied: webencodings in /shared/centos7/anaconda3/2021.05/lib/python3.8/site-packages (from bleach[css]!=5.0.0->nbconvert>=6.4.4->jupyter-server<3,>=2.4.0->jupyterlab) (0.5.1)\n",
      "Requirement already satisfied: six>=1.9.0 in /shared/centos7/anaconda3/2021.05/lib/python3.8/site-packages (from bleach[css]!=5.0.0->nbconvert>=6.4.4->jupyter-server<3,>=2.4.0->jupyterlab) (1.15.0)\n",
      "Requirement already satisfied: async-generator in /shared/centos7/anaconda3/2021.05/lib/python3.8/site-packages (from nbclient>=0.5.0->nbconvert>=6.4.4->jupyter-server<3,>=2.4.0->jupyterlab) (1.10)\n",
      "Requirement already satisfied: fastjsonschema>=2.15 in /home/tandel.r/.local/lib/python3.8/site-packages (from nbformat>=5.3.0->jupyter-server<3,>=2.4.0->jupyterlab) (2.21.1)\n",
      "Requirement already satisfied: charset-normalizer<4,>=2 in /home/tandel.r/.local/lib/python3.8/site-packages (from requests>=2.31->jupyterlab-server<3,>=2.27.1->jupyterlab) (3.4.1)\n",
      "Requirement already satisfied: urllib3<3,>=1.21.1 in /shared/centos7/anaconda3/2021.05/lib/python3.8/site-packages (from requests>=2.31->jupyterlab-server<3,>=2.27.1->jupyterlab) (1.26.4)\n",
      "Requirement already satisfied: cffi>=1.0.1 in /shared/centos7/anaconda3/2021.05/lib/python3.8/site-packages (from argon2-cffi-bindings->argon2-cffi>=21.1->jupyter-server<3,>=2.4.0->jupyterlab) (1.14.5)\n",
      "Requirement already satisfied: pycparser in /shared/centos7/anaconda3/2021.05/lib/python3.8/site-packages (from cffi>=1.0.1->argon2-cffi-bindings->argon2-cffi>=21.1->jupyter-server<3,>=2.4.0->jupyterlab) (2.20)\n",
      "Requirement already satisfied: soupsieve>1.2 in /shared/centos7/anaconda3/2021.05/lib/python3.8/site-packages (from beautifulsoup4->nbconvert>=6.4.4->jupyter-server<3,>=2.4.0->jupyterlab) (2.2.1)\n",
      "Requirement already satisfied: arrow>=0.15.0 in /home/tandel.r/.local/lib/python3.8/site-packages (from isoduration->jsonschema[format-nongpl]>=4.18.0->jupyter-events>=0.9.0->jupyter-server<3,>=2.4.0->jupyterlab) (1.3.0)\n",
      "Requirement already satisfied: types-python-dateutil>=2.8.10 in /home/tandel.r/.local/lib/python3.8/site-packages (from arrow>=0.15.0->isoduration->jsonschema[format-nongpl]>=4.18.0->jupyter-events>=0.9.0->jupyter-server<3,>=2.4.0->jupyterlab) (2.9.0.20241206)\n",
      "Requirement already satisfied: executing>=1.2.0 in /home/tandel.r/.local/lib/python3.8/site-packages (from stack-data->ipython>=6.1.0->ipywidgets) (2.2.0)\n",
      "Requirement already satisfied: asttokens>=2.1.0 in /home/tandel.r/.local/lib/python3.8/site-packages (from stack-data->ipython>=6.1.0->ipywidgets) (3.0.0)\n",
      "Requirement already satisfied: pure-eval in /home/tandel.r/.local/lib/python3.8/site-packages (from stack-data->ipython>=6.1.0->ipywidgets) (0.2.3)\n",
      "Installing collected packages: widgetsnbextension, jupyterlab-widgets, jupyterlab, ipywidgets\n",
      "  Attempting uninstall: jupyterlab\n",
      "    Found existing installation: jupyterlab 4.3.5\n",
      "    Uninstalling jupyterlab-4.3.5:\n",
      "      Successfully uninstalled jupyterlab-4.3.5\n",
      "\u001b[31mERROR: pip's dependency resolver does not currently take into account all the packages that are installed. This behaviour is the source of the following dependency conflicts.\n",
      "nbclassic 0.2.6 requires jupyter-server~=1.1, but you have jupyter-server 2.14.2 which is incompatible.\n",
      "nbclassic 0.2.6 requires notebook<7, but you have notebook 7.3.2 which is incompatible.\u001b[0m\n",
      "Successfully installed ipywidgets-8.1.5 jupyterlab-4.3.6 jupyterlab-widgets-3.0.13 widgetsnbextension-4.0.13\n"
     ]
    }
   ],
   "source": [
    "# Install transformers and sentiment libs\n",
    "!pip install transformers --quiet\n",
    "!pip install vaderSentiment --quiet\n",
    "!pip install ipywidgets jupyterlab-widgets\n",
    "\n",
    "import pandas as pd\n",
    "import torch\n",
    "from transformers import AutoTokenizer, AutoModelForSequenceClassification\n",
    "from vaderSentiment.vaderSentiment import SentimentIntensityAnalyzer\n",
    "from tqdm import tqdm\n",
    "import os\n",
    "import numpy as np"
   ]
  },
  {
   "cell_type": "code",
   "execution_count": 3,
   "id": "95e675d1-b71f-4d3b-b7a5-4e2f831132f8",
   "metadata": {},
   "outputs": [
    {
     "name": "stdout",
     "output_type": "stream",
     "text": [
      "Tweets: (95, 7)\n",
      "News: (20, 5)\n",
      "Reddit: (50, 8)\n"
     ]
    }
   ],
   "source": [
    "# Load data from /data/processed/\n",
    "processed_path = \"../data/processed\"\n",
    "\n",
    "tweet_df = pd.read_csv(os.path.join(processed_path, \"AAPL_twitter_cleaned.csv\"))\n",
    "news_df = pd.read_csv(os.path.join(processed_path, \"AAPL_news_cleaned.csv\"))\n",
    "\n",
    "reddit_path = os.path.join(processed_path, \"AAPL_reddit_cleaned.csv\")\n",
    "reddit_df = pd.read_csv(reddit_path) if os.path.exists(reddit_path) else pd.DataFrame()\n",
    "\n",
    "print(f\"Tweets: {tweet_df.shape}\")\n",
    "print(f\"News: {news_df.shape}\")\n",
    "print(f\"Reddit: {reddit_df.shape if not reddit_df.empty else 'N/A'}\")"
   ]
  },
  {
   "cell_type": "code",
   "execution_count": 4,
   "id": "42329b3d-920f-4890-a007-3d476cce43b4",
   "metadata": {},
   "outputs": [
    {
     "name": "stderr",
     "output_type": "stream",
     "text": [
      "/home/tandel.r/.local/lib/python3.8/site-packages/huggingface_hub/file_download.py:797: FutureWarning: `resume_download` is deprecated and will be removed in version 1.0.0. Downloads always resume when possible. If you want to force a new download, use `force_download=True`.\n",
      "  warnings.warn(\n"
     ]
    },
    {
     "data": {
      "application/vnd.jupyter.widget-view+json": {
       "model_id": "7c70395154a74cdc8aaa8380e19b968d",
       "version_major": 2,
       "version_minor": 0
      },
      "text/plain": [
       "config.json:   0%|          | 0.00/533 [00:00<?, ?B/s]"
      ]
     },
     "metadata": {},
     "output_type": "display_data"
    },
    {
     "data": {
      "application/vnd.jupyter.widget-view+json": {
       "model_id": "3a6cf628ae504d6091c5b4289b0e0791",
       "version_major": 2,
       "version_minor": 0
      },
      "text/plain": [
       "vocab.txt:   0%|          | 0.00/226k [00:00<?, ?B/s]"
      ]
     },
     "metadata": {},
     "output_type": "display_data"
    },
    {
     "name": "stderr",
     "output_type": "stream",
     "text": [
      "/home/tandel.r/.local/lib/python3.8/site-packages/huggingface_hub/file_download.py:797: FutureWarning: `resume_download` is deprecated and will be removed in version 1.0.0. Downloads always resume when possible. If you want to force a new download, use `force_download=True`.\n",
      "  warnings.warn(\n"
     ]
    },
    {
     "data": {
      "application/vnd.jupyter.widget-view+json": {
       "model_id": "3e8c033c0fa04b0f86efb218e2be86ff",
       "version_major": 2,
       "version_minor": 0
      },
      "text/plain": [
       "pytorch_model.bin:   0%|          | 0.00/439M [00:00<?, ?B/s]"
      ]
     },
     "metadata": {},
     "output_type": "display_data"
    },
    {
     "name": "stderr",
     "output_type": "stream",
     "text": [
      "/home/tandel.r/.local/lib/python3.8/site-packages/transformers/modeling_utils.py:460: FutureWarning: You are using `torch.load` with `weights_only=False` (the current default value), which uses the default pickle module implicitly. It is possible to construct malicious pickle data which will execute arbitrary code during unpickling (See https://github.com/pytorch/pytorch/blob/main/SECURITY.md#untrusted-models for more details). In a future release, the default value for `weights_only` will be flipped to `True`. This limits the functions that could be executed during unpickling. Arbitrary objects will no longer be allowed to be loaded via this mode unless they are explicitly allowlisted by the user via `torch.serialization.add_safe_globals`. We recommend you start setting `weights_only=True` for any use case where you don't have full control of the loaded file. Please open an issue on GitHub for any issues related to this experimental feature.\n",
      "  return torch.load(checkpoint_file, map_location=\"cpu\")\n"
     ]
    },
    {
     "name": "stdout",
     "output_type": "stream",
     "text": [
      "FinBERT loaded on: cuda\n"
     ]
    }
   ],
   "source": [
    "# Load FinBERT from Hugging Face\n",
    "MODEL = \"yiyanghkust/finbert-tone\"\n",
    "tokenizer = AutoTokenizer.from_pretrained(MODEL)\n",
    "model = AutoModelForSequenceClassification.from_pretrained(MODEL)\n",
    "\n",
    "device = torch.device(\"cuda\" if torch.cuda.is_available() else \"cpu\")\n",
    "model = model.to(device)\n",
    "print(f\"FinBERT loaded on: {device}\")"
   ]
  },
  {
   "cell_type": "code",
   "execution_count": 5,
   "id": "80b52098-c28d-4a7f-b5c3-e6bfbb94007a",
   "metadata": {},
   "outputs": [],
   "source": [
    "# Map class index to label\n",
    "label_map = {0: \"negative\", 1: \"neutral\", 2: \"positive\"}\n",
    "\n",
    "# Function to run FinBERT on a single text\n",
    "def get_finbert_sentiment(text):\n",
    "    try:\n",
    "        inputs = tokenizer(text, return_tensors=\"pt\", truncation=True, max_length=512).to(device)\n",
    "        outputs = model(**inputs)\n",
    "        probs = torch.nn.functional.softmax(outputs.logits, dim=1)\n",
    "        label = torch.argmax(probs).item()\n",
    "        return label_map[label]\n",
    "    except:\n",
    "        return \"neutral\""
   ]
  },
  {
   "cell_type": "code",
   "execution_count": 6,
   "id": "d6119f4c-090f-4de6-9b2d-c0954383f3ac",
   "metadata": {},
   "outputs": [
    {
     "name": "stderr",
     "output_type": "stream",
     "text": [
      "100%|██████████| 95/95 [00:01<00:00, 65.38it/s] \n",
      "100%|██████████| 20/20 [00:00<00:00, 132.07it/s]\n",
      "100%|██████████| 50/50 [00:00<00:00, 99.20it/s] "
     ]
    },
    {
     "name": "stdout",
     "output_type": "stream",
     "text": [
      "Sentiment labels (FinBERT) added.\n"
     ]
    },
    {
     "name": "stderr",
     "output_type": "stream",
     "text": [
      "\n"
     ]
    }
   ],
   "source": [
    "# Use tqdm for progress tracking\n",
    "tqdm.pandas()\n",
    "\n",
    "# Apply FinBERT sentiment\n",
    "tweet_df[\"finbert_sentiment\"] = tweet_df[\"clean_text\"].progress_apply(get_finbert_sentiment)\n",
    "news_df[\"finbert_sentiment\"] = news_df[\"clean_headline\"].progress_apply(get_finbert_sentiment)\n",
    "if not reddit_df.empty:\n",
    "    reddit_df[\"finbert_sentiment\"] = reddit_df[\"clean_text\"].progress_apply(get_finbert_sentiment)\n",
    "\n",
    "print(\"Sentiment labels (FinBERT) added.\")"
   ]
  },
  {
   "cell_type": "code",
   "execution_count": 7,
   "id": "8c4e20a8-9ba2-4ecc-ab35-ab86d59aa1f6",
   "metadata": {},
   "outputs": [
    {
     "name": "stderr",
     "output_type": "stream",
     "text": [
      "100%|██████████| 95/95 [00:00<00:00, 10542.36it/s]\n",
      "100%|██████████| 20/20 [00:00<00:00, 12708.09it/s]\n",
      "100%|██████████| 50/50 [00:00<00:00, 166.52it/s]"
     ]
    },
    {
     "name": "stdout",
     "output_type": "stream",
     "text": [
      "VADER baseline sentiment added.\n"
     ]
    },
    {
     "name": "stderr",
     "output_type": "stream",
     "text": [
      "\n"
     ]
    }
   ],
   "source": [
    "# VADER: Rule-based sentiment analyzer\n",
    "vader = SentimentIntensityAnalyzer()\n",
    "\n",
    "def get_vader_label(text):\n",
    "    score = vader.polarity_scores(text)[\"compound\"]\n",
    "    if score >= 0.05:\n",
    "        return \"positive\"\n",
    "    elif score <= -0.05:\n",
    "        return \"negative\"\n",
    "    else:\n",
    "        return \"neutral\"\n",
    "\n",
    "tweet_df[\"vader_sentiment\"] = tweet_df[\"clean_text\"].progress_apply(get_vader_label)\n",
    "news_df[\"vader_sentiment\"] = news_df[\"clean_headline\"].progress_apply(get_vader_label)\n",
    "if not reddit_df.empty:\n",
    "    reddit_df[\"vader_sentiment\"] = reddit_df[\"clean_text\"].progress_apply(get_vader_label)\n",
    "\n",
    "print(\"VADER baseline sentiment added.\")"
   ]
  },
  {
   "cell_type": "code",
   "execution_count": 8,
   "id": "96eba7cb-38f1-45e5-853c-86e38a0d1830",
   "metadata": {},
   "outputs": [
    {
     "data": {
      "image/png": "[encoded data removed]",
      "text/plain": [
       "<Figure size 600x400 with 1 Axes>"
      ]
     },
     "metadata": {},
     "output_type": "display_data"
    },
    {
     "data": {
      "image/png": "[encoded data removed]",
      "text/plain": [
       "<Figure size 600x400 with 1 Axes>"
      ]
     },
     "metadata": {},
     "output_type": "display_data"
    },
    {
     "data": {
      "image/png": "[encoded data removed]",
      "text/plain": [
       "<Figure size 600x400 with 1 Axes>"
      ]
     },
     "metadata": {},
     "output_type": "display_data"
    }
   ],
   "source": [
    "import matplotlib.pyplot as plt\n",
    "\n",
    "def plot_sentiment_dist(df, source_name):\n",
    "    plt.figure(figsize=(6, 4))\n",
    "    df[\"finbert_sentiment\"].value_counts().plot(kind=\"bar\", alpha=0.6, label=\"FinBERT\")\n",
    "    df[\"vader_sentiment\"].value_counts().plot(kind=\"bar\", alpha=0.6, label=\"VADER\", color=\"orange\")\n",
    "    plt.title(f\"Sentiment Distribution ({source_name})\")\n",
    "    plt.xlabel(\"Sentiment\")\n",
    "    plt.ylabel(\"Count\")\n",
    "    plt.legend()\n",
    "    plt.grid(True)\n",
    "    plt.show()\n",
    "\n",
    "plot_sentiment_dist(tweet_df, \"Twitter\")\n",
    "plot_sentiment_dist(news_df, \"News\")\n",
    "if not reddit_df.empty:\n",
    "    plot_sentiment_dist(reddit_df, \"Reddit\")"
   ]
  },
  {
   "cell_type": "code",
   "execution_count": 9,
   "id": "81547e53-2a91-469e-b64c-c30db5c196aa",
   "metadata": {},
   "outputs": [
    {
     "name": "stdout",
     "output_type": "stream",
     "text": [
      "Sentiment-labeled data saved to /data/processed/\n"
     ]
    }
   ],
   "source": [
    "tweet_df.to_csv(os.path.join(processed_path, \"AAPL_twitter_sentiment.csv\"), index=False)\n",
    "news_df.to_csv(os.path.join(processed_path, \"AAPL_news_sentiment.csv\"), index=False)\n",
    "if not reddit_df.empty:\n",
    "    reddit_df.to_csv(os.path.join(processed_path, \"AAPL_reddit_sentiment.csv\"), index=False)\n",
    "\n",
    "print(\"Sentiment-labeled data saved to /data/processed/\")"
   ]
  },
  {
   "cell_type": "code",
   "execution_count": 10,
   "id": "b559cb3f-0fda-4c95-8ff6-7acb7fcb665d",
   "metadata": {},
   "outputs": [
    {
     "name": "stdout",
     "output_type": "stream",
     "text": [
      "Sentiment Analysis Summary:\n",
      "Tweets → {'negative': 63, 'neutral': 32}\n",
      "News → {'negative': 16, 'neutral': 3, 'positive': 1}\n",
      "Reddit → {'negative': 35, 'neutral': 8, 'positive': 7}\n",
      "\n",
      "Next: Combine sentiment with stock data for feature engineering in Notebook 04.\n"
     ]
    }
   ],
   "source": [
    "print(\"Sentiment Analysis Summary:\")\n",
    "print(\"Tweets →\", tweet_df[\"finbert_sentiment\"].value_counts().to_dict())\n",
    "print(\"News →\", news_df[\"finbert_sentiment\"].value_counts().to_dict())\n",
    "if not reddit_df.empty:\n",
    "    print(\"Reddit →\", reddit_df[\"finbert_sentiment\"].value_counts().to_dict())\n",
    "\n",
    "print(\"\\nNext: Combine sentiment with stock data for feature engineering in Notebook 04.\")"
   ]
  },
  {
   "cell_type": "code",
   "execution_count": 11,
   "id": "e0eb9406-9c93-4684-9e2b-82d45b160019",
   "metadata": {},
   "outputs": [
    {
     "name": "stdout",
     "output_type": "stream",
     "text": [
      "huggingface/tokenizers: The current process just got forked, after parallelism has already been used. Disabling parallelism to avoid deadlocks...\n",
      "To disable this warning, you can either:\n",
      "\t- Avoid using `tokenizers` before the fork if possible\n",
      "\t- Explicitly set the environment variable TOKENIZERS_PARALLELISM=(true | false)\n",
      "huggingface/tokenizers: The current process just got forked, after parallelism has already been used. Disabling parallelism to avoid deadlocks...\n",
      "To disable this warning, you can either:\n",
      "\t- Avoid using `tokenizers` before the fork if possible\n",
      "\t- Explicitly set the environment variable TOKENIZERS_PARALLELISM=(true | false)\n"
     ]
    }
   ],
   "source": [
    "# Install Hugging Face models and additional tokenizer support\n",
    "!pip install transformers --quiet\n",
    "!pip install sentencepiece --quiet"
   ]
  },
  {
   "cell_type": "code",
   "execution_count": 15,
   "id": "c014862a-4516-4474-b8a2-c6978017b9f7",
   "metadata": {},
   "outputs": [
    {
     "name": "stderr",
     "output_type": "stream",
     "text": [
      "Some weights of the model checkpoint at cardiffnlp/twitter-roberta-base-sentiment-latest were not used when initializing RobertaForSequenceClassification: ['roberta.pooler.dense.weight', 'roberta.pooler.dense.bias']\n",
      "- This IS expected if you are initializing RobertaForSequenceClassification from the checkpoint of a model trained on another task or with another architecture (e.g. initializing a BertForSequenceClassification model from a BertForPreTraining model).\n",
      "- This IS NOT expected if you are initializing RobertaForSequenceClassification from the checkpoint of a model that you expect to be exactly identical (initializing a BertForSequenceClassification model from a BertForSequenceClassification model).\n"
     ]
    },
    {
     "name": "stdout",
     "output_type": "stream",
     "text": [
      "RoBERTa model loaded.\n"
     ]
    }
   ],
   "source": [
    "from transformers import AutoTokenizer, AutoModelForSequenceClassification\n",
    "\n",
    "roberta_model_name = \"cardiffnlp/twitter-roberta-base-sentiment-latest\"\n",
    "\n",
    "roberta_tokenizer = AutoTokenizer.from_pretrained(roberta_model_name)\n",
    "roberta_model = AutoModelForSequenceClassification.from_pretrained(roberta_model_name)\n",
    "roberta_model = roberta_model.to(device)\n",
    "\n",
    "roberta_labels = {0: \"negative\", 1: \"neutral\", 2: \"positive\"}\n",
    "print(\"RoBERTa model loaded.\")"
   ]
  },
  {
   "cell_type": "code",
   "execution_count": 16,
   "id": "a20194fb-188a-4e40-b429-02c16613d32f",
   "metadata": {},
   "outputs": [],
   "source": [
    "def get_roberta_sentiment(text):\n",
    "    try:\n",
    "        inputs = roberta_tokenizer(text, return_tensors=\"pt\", truncation=True, max_length=512).to(device)\n",
    "        outputs = roberta_model(**inputs)\n",
    "        probs = torch.nn.functional.softmax(outputs.logits, dim=1)\n",
    "        label = torch.argmax(probs).item()\n",
    "        return roberta_labels[label]\n",
    "    except:\n",
    "        return \"neutral\""
   ]
  },
  {
   "cell_type": "code",
   "execution_count": 17,
   "id": "a81c9bfb-f7cb-4b7a-9d78-54913b330151",
   "metadata": {},
   "outputs": [
    {
     "name": "stderr",
     "output_type": "stream",
     "text": [
      "100%|██████████| 95/95 [00:00<00:00, 119.29it/s]\n",
      "100%|██████████| 20/20 [00:00<00:00, 126.19it/s]\n",
      "100%|██████████| 50/50 [00:00<00:00, 94.55it/s]"
     ]
    },
    {
     "name": "stdout",
     "output_type": "stream",
     "text": [
      "RoBERTa sentiment labels added to all datasets.\n"
     ]
    },
    {
     "name": "stderr",
     "output_type": "stream",
     "text": [
      "\n"
     ]
    }
   ],
   "source": [
    "tweet_df[\"roberta_sentiment\"] = tweet_df[\"clean_text\"].progress_apply(get_roberta_sentiment)\n",
    "news_df[\"roberta_sentiment\"] = news_df[\"clean_headline\"].progress_apply(get_roberta_sentiment)\n",
    "if not reddit_df.empty:\n",
    "    reddit_df[\"roberta_sentiment\"] = reddit_df[\"clean_text\"].progress_apply(get_roberta_sentiment)\n",
    "\n",
    "print(\"RoBERTa sentiment labels added to all datasets.\")"
   ]
  },
  {
   "cell_type": "code",
   "execution_count": 18,
   "id": "e270f0fb-1f64-4932-aafa-2f363f3882c9",
   "metadata": {},
   "outputs": [
    {
     "data": {
      "text/html": [
       "<div>\n",
       "<style scoped>\n",
       "    .dataframe tbody tr th:only-of-type {\n",
       "        vertical-align: middle;\n",
       "    }\n",
       "\n",
       "    .dataframe tbody tr th {\n",
       "        vertical-align: top;\n",
       "    }\n",
       "\n",
       "    .dataframe thead th {\n",
       "        text-align: right;\n",
       "    }\n",
       "</style>\n",
       "<table border=\"1\" class=\"dataframe\">\n",
       "  <thead>\n",
       "    <tr style=\"text-align: right;\">\n",
       "      <th></th>\n",
       "      <th>clean_text</th>\n",
       "      <th>finbert_sentiment</th>\n",
       "      <th>vader_sentiment</th>\n",
       "      <th>roberta_sentiment</th>\n",
       "    </tr>\n",
       "  </thead>\n",
       "  <tbody>\n",
       "    <tr>\n",
       "      <th>72</th>\n",
       "      <td>get in on the next stockparty join with my lin...</td>\n",
       "      <td>negative</td>\n",
       "      <td>positive</td>\n",
       "      <td>positive</td>\n",
       "    </tr>\n",
       "    <tr>\n",
       "      <th>0</th>\n",
       "      <td>best stock traders group out there updates cha...</td>\n",
       "      <td>negative</td>\n",
       "      <td>positive</td>\n",
       "      <td>positive</td>\n",
       "    </tr>\n",
       "    <tr>\n",
       "      <th>24</th>\n",
       "      <td>rt over the long term its hard for a stock to ...</td>\n",
       "      <td>neutral</td>\n",
       "      <td>positive</td>\n",
       "      <td>negative</td>\n",
       "    </tr>\n",
       "    <tr>\n",
       "      <th>93</th>\n",
       "      <td>rt choose 1 which stock will outperform the ot...</td>\n",
       "      <td>neutral</td>\n",
       "      <td>neutral</td>\n",
       "      <td>neutral</td>\n",
       "    </tr>\n",
       "    <tr>\n",
       "      <th>23</th>\n",
       "      <td>rt over the long term its hard for a stock to ...</td>\n",
       "      <td>neutral</td>\n",
       "      <td>positive</td>\n",
       "      <td>negative</td>\n",
       "    </tr>\n",
       "  </tbody>\n",
       "</table>\n",
       "</div>"
      ],
      "text/plain": [
       "                                           clean_text finbert_sentiment  \\\n",
       "72  get in on the next stockparty join with my lin...          negative   \n",
       "0   best stock traders group out there updates cha...          negative   \n",
       "24  rt over the long term its hard for a stock to ...           neutral   \n",
       "93  rt choose 1 which stock will outperform the ot...           neutral   \n",
       "23  rt over the long term its hard for a stock to ...           neutral   \n",
       "\n",
       "   vader_sentiment roberta_sentiment  \n",
       "72        positive          positive  \n",
       "0         positive          positive  \n",
       "24        positive          negative  \n",
       "93         neutral           neutral  \n",
       "23        positive          negative  "
      ]
     },
     "execution_count": 18,
     "metadata": {},
     "output_type": "execute_result"
    }
   ],
   "source": [
    "# Show sample sentiment comparisons\n",
    "tweet_df[[\"clean_text\", \"finbert_sentiment\", \"vader_sentiment\", \"roberta_sentiment\"]].sample(5)"
   ]
  },
  {
   "cell_type": "code",
   "execution_count": 19,
   "id": "dd48e1c7-7be1-4d22-886f-f177898cd5f6",
   "metadata": {},
   "outputs": [
    {
     "name": "stdout",
     "output_type": "stream",
     "text": [
      "All models' sentiment outputs saved.\n"
     ]
    }
   ],
   "source": [
    "tweet_df.to_csv(os.path.join(processed_path, \"AAPL_twitter_sentiment.csv\"), index=False)\n",
    "news_df.to_csv(os.path.join(processed_path, \"AAPL_news_sentiment.csv\"), index=False)\n",
    "if not reddit_df.empty:\n",
    "    reddit_df.to_csv(os.path.join(processed_path, \"AAPL_reddit_sentiment.csv\"), index=False)\n",
    "\n",
    "print(\"All models' sentiment outputs saved.\")"
   ]
  },
  {
   "cell_type": "code",
   "execution_count": 20,
   "id": "783b67e4-6356-4add-94c0-7a7158ed66fb",
   "metadata": {},
   "outputs": [
    {
     "name": "stdout",
     "output_type": "stream",
     "text": [
      "Sentiment Summary with 3 Models (FinBERT, VADER, RoBERTa):\n",
      "Tweets: {'neutral': 44, 'negative': 27, 'positive': 24}\n",
      "News: {'neutral': 16, 'positive': 2, 'negative': 2}\n",
      "Reddit: {'neutral': 43, 'positive': 4, 'negative': 3}\n"
     ]
    }
   ],
   "source": [
    "print(\"Sentiment Summary with 3 Models (FinBERT, VADER, RoBERTa):\")\n",
    "print(\"Tweets:\", tweet_df[\"roberta_sentiment\"].value_counts().to_dict())\n",
    "print(\"News:\", news_df[\"roberta_sentiment\"].value_counts().to_dict())\n",
    "if not reddit_df.empty:\n",
    "    print(\"Reddit:\", reddit_df[\"roberta_sentiment\"].value_counts().to_dict())"
   ]
  },
  {
   "cell_type": "code",
   "execution_count": null,
   "id": "a378f0cb-8c21-48e8-94df-404924ff957a",
   "metadata": {},
   "outputs": [],
   "source": []
  }
 ],
 "metadata": {
  "kernelspec": {
   "display_name": "Python 3 (ipykernel)",
   "language": "python",
   "name": "python3"
  },
  "language_info": {
   "codemirror_mode": {
    "name": "ipython",
    "version": 3
   },
   "file_extension": ".py",
   "mimetype": "text/x-python",
   "name": "python",
   "nbconvert_exporter": "python",
   "pygments_lexer": "ipython3",
   "version": "3.8.8"
  }
 },
 "nbformat": 4,
 "nbformat_minor": 5
}
