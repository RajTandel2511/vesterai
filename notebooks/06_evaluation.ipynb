{
 "cells": [
  {
   "cell_type": "code",
   "execution_count": 1,
   "id": "43cda975-4387-4cbf-9021-5c8968ce8e8a",
   "metadata": {},
   "outputs": [
    {
     "data": {
      "text/plain": [
       "'\\nObjective:\\nUse an LLM (e.g., LLaMA 2, GPT-style) to generate:\\n1. Daily summaries of sentiment and market data\\n2. Answer natural language questions about the dataset\\n3. Prepare for chatbot integration\\n\\nInput: Sentiment + Stock data\\nModel: HuggingFace pipeline or LLaMA 2 (your setup)\\n'"
      ]
     },
     "execution_count": 1,
     "metadata": {},
     "output_type": "execute_result"
    }
   ],
   "source": [
    "# VesterAI - Notebook 06: LLM-Powered Insight Generator\n",
    "\n",
    "\"\"\"\n",
    "Objective:\n",
    "Use an LLM (e.g., LLaMA 2, GPT-style) to generate:\n",
    "1. Daily summaries of sentiment and market data\n",
    "2. Answer natural language questions about the dataset\n",
    "3. Prepare for chatbot integration\n",
    "\n",
    "Input: Sentiment + Stock data\n",
    "Model: HuggingFace pipeline or LLaMA 2 (your setup)\n",
    "\"\"\""
   ]
  },
  {
   "cell_type": "code",
   "execution_count": 2,
   "id": "cc4153fd-0c63-494e-9607-a5269852155c",
   "metadata": {},
   "outputs": [],
   "source": [
    "# Install transformers if needed\n",
    "!pip install transformers --quiet"
   ]
  },
  {
   "cell_type": "code",
   "execution_count": 3,
   "id": "91fd6df5-5af8-41bc-be42-2e9280d61a87",
   "metadata": {},
   "outputs": [
    {
     "name": "stdout",
     "output_type": "stream",
     "text": [
      "\n",
      "Date: 2025-03-24\n",
      "Stock Close: 220.73\n",
      "Return: 0.0113\n",
      "Twitter Sentiment Score: 0.00\n",
      "News Sentiment Score: 0.00\n",
      "Reddit Sentiment Score: 0.00\n",
      "Technical Indicators:\n",
      "- RSI: 43.32\n",
      "- MACD: -5.8843\n",
      "- OBV: 3055157200.00\n",
      "\n"
     ]
    }
   ],
   "source": [
    "import pandas as pd\n",
    "from datetime import datetime, timedelta\n",
    "\n",
    "# Load latest model dataset\n",
    "data = pd.read_csv(\"../data/processed/AAPL_model_data.csv\", parse_dates=[\"Date\"])\n",
    "data = data.sort_values(\"Date\").reset_index(drop=True)\n",
    "\n",
    "# Choose a date (or use latest)\n",
    "selected_date = data[\"Date\"].iloc[-1]  # most recent available date\n",
    "context_df = data[data[\"Date\"] == selected_date]\n",
    "\n",
    "if context_df.empty:\n",
    "    selected_date = data[\"Date\"].iloc[-2]\n",
    "    context_df = data[data[\"Date\"] == selected_date]\n",
    "\n",
    "# Build input text for the model\n",
    "row = context_df.iloc[0]\n",
    "summary_context = f\"\"\"\n",
    "Date: {row['Date'].strftime('%Y-%m-%d')}\n",
    "Stock Close: {row['Close']:.2f}\n",
    "Return: {row['return']:.4f}\n",
    "Twitter Sentiment Score: {row['twitter_sentiment']:.2f}\n",
    "News Sentiment Score: {row['news_sentiment']:.2f}\n",
    "Reddit Sentiment Score: {row.get('reddit_sentiment', 0):.2f}\n",
    "Technical Indicators:\n",
    "- RSI: {row['rsi_14']:.2f}\n",
    "- MACD: {row['macd']:.4f}\n",
    "- OBV: {row['obv']:.2f}\n",
    "\"\"\"\n",
    "print(summary_context)"
   ]
  },
  {
   "cell_type": "code",
   "execution_count": 4,
   "id": "8451e74e-ffc6-4893-bc91-1987df2451df",
   "metadata": {},
   "outputs": [
    {
     "name": "stderr",
     "output_type": "stream",
     "text": [
      "/home/tandel.r/.local/lib/python3.8/site-packages/huggingface_hub/file_download.py:797: FutureWarning: `resume_download` is deprecated and will be removed in version 1.0.0. Downloads always resume when possible. If you want to force a new download, use `force_download=True`.\n",
      "  warnings.warn(\n",
      "Xformers is not installed correctly. If you want to use memory_efficient_attention to accelerate training use the following command to install Xformers\n",
      "pip install xformers.\n"
     ]
    }
   ],
   "source": [
    "from transformers import pipeline\n",
    "\n",
    "# Load a small LLM for generation\n",
    "generator = pipeline(\"text-generation\", model=\"gpt2\", max_length=250)\n",
    "\n",
    "# You can also plug in your own LLaMA 2 setup here"
   ]
  },
  {
   "cell_type": "code",
   "execution_count": 5,
   "id": "a2fbaea6-a440-4ecf-89ce-f88129784ccf",
   "metadata": {},
   "outputs": [
    {
     "name": "stderr",
     "output_type": "stream",
     "text": [
      "Setting `pad_token_id` to `eos_token_id`:50256 for open-end generation.\n"
     ]
    },
    {
     "name": "stdout",
     "output_type": "stream",
     "text": [
      "Insight Generated:\n",
      "\n",
      "Based on the following market data, generate a summary insight about the day for investors:\n",
      "\n",
      "Date: 2025-03-24\n",
      "Stock Close: 220.73\n",
      "Return: 0.0113\n",
      "Twitter Sentiment Score: 0.00\n",
      "News Sentiment Score: 0.00\n",
      "Reddit Sentiment Score: 0.00\n",
      "Technical Indicators:\n",
      "- RSI: 43.32\n",
      "- MACD: -5.8843\n",
      "- OBV: 3055157200.00\n",
      "- OOC: 23.86714\n",
      "Note that the top 10 stocks are based on recent events (not any recent events at all). As the market moves in the next ten days, we believe it is likely that stock prices and\n"
     ]
    }
   ],
   "source": [
    "prompt = (\n",
    "    \"Based on the following market data, generate a summary insight about the day for investors:\\n\"\n",
    "    + summary_context\n",
    ")\n",
    "\n",
    "response = generator(prompt, max_length=150, num_return_sequences=1)\n",
    "print(\"Insight Generated:\\n\")\n",
    "print(response[0]['generated_text'])"
   ]
  },
  {
   "cell_type": "code",
   "execution_count": 6,
   "id": "e80b64f5-974a-4ec6-810c-6d2923909544",
   "metadata": {},
   "outputs": [
    {
     "name": "stderr",
     "output_type": "stream",
     "text": [
      "Setting `pad_token_id` to `eos_token_id`:50256 for open-end generation.\n",
      "Input length of input_ids is 104, but `max_length` is set to 100. This can lead to unexpected behavior. You should consider increasing `max_new_tokens`.\n"
     ]
    },
    {
     "name": "stdout",
     "output_type": "stream",
     "text": [
      "Answer:\n",
      "\n",
      "Context:\n",
      "\n",
      "Date: 2025-03-24\n",
      "Stock Close: 220.73\n",
      "Return: 0.0113\n",
      "Twitter Sentiment Score: 0.00\n",
      "News Sentiment Score: 0.00\n",
      "Reddit Sentiment Score: 0.00\n",
      "Technical Indicators:\n",
      "- RSI: 43.32\n",
      "- MACD: -5.8843\n",
      "- OBV: 3055157200.00\n",
      "\n",
      "\n",
      "Q: Was the sentiment bullish or bearish on this day?\n",
      "A: Bear\n"
     ]
    }
   ],
   "source": [
    "# You can also let the user ask a question about the day\n",
    "question = \"Was the sentiment bullish or bearish on this day?\"\n",
    "\n",
    "qa_prompt = (\n",
    "    f\"Context:\\n{summary_context}\\n\\n\"\n",
    "    f\"Q: {question}\\n\"\n",
    "    f\"A:\"\n",
    ")\n",
    "\n",
    "response = generator(qa_prompt, max_length=100, num_return_sequences=1)\n",
    "print(\"Answer:\\n\")\n",
    "print(response[0]['generated_text'])"
   ]
  },
  {
   "cell_type": "code",
   "execution_count": 7,
   "id": "24f236b9-f3fc-4934-a69a-a68664648e47",
   "metadata": {},
   "outputs": [],
   "source": [
    "def generate_insight_summary(row):\n",
    "    context = f\"\"\"\n",
    "Date: {row['Date']}\n",
    "Stock Close: {row['Close']:.2f}\n",
    "Return: {row['return']:.4f}\n",
    "Twitter Sentiment: {row['twitter_sentiment']:.2f}\n",
    "News Sentiment: {row['news_sentiment']:.2f}\n",
    "RSI: {row['rsi_14']:.2f}\n",
    "MACD: {row['macd']:.4f}\n",
    "\"\"\"\n",
    "    prompt = \"Summarize the market insight for this day:\\n\" + context\n",
    "    return generator(prompt, max_length=100)[0][\"generated_text\"]"
   ]
  },
  {
   "cell_type": "code",
   "execution_count": 8,
   "id": "c3561dd1-bca0-4d5e-b9a0-6d8e631aa221",
   "metadata": {},
   "outputs": [
    {
     "name": "stdout",
     "output_type": "stream",
     "text": [
      "LLM Insight Generator Complete.\n",
      "You can now summarize any day or ask questions interactively.\n"
     ]
    }
   ],
   "source": [
    "print(\"LLM Insight Generator Complete.\")\n",
    "print(\"You can now summarize any day or ask questions interactively.\")"
   ]
  }
 ],
 "metadata": {
  "kernelspec": {
   "display_name": "Python 3 (ipykernel)",
   "language": "python",
   "name": "python3"
  },
  "language_info": {
   "codemirror_mode": {
    "name": "ipython",
    "version": 3
   },
   "file_extension": ".py",
   "mimetype": "text/x-python",
   "name": "python",
   "nbconvert_exporter": "python",
   "pygments_lexer": "ipython3",
   "version": "3.8.8"
  }
 },
 "nbformat": 4,
 "nbformat_minor": 5
}
