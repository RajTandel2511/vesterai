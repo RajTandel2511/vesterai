{
 "cells": [
  {
   "cell_type": "code",
   "execution_count": 1,
   "id": "6cc40097-7279-49d7-bd00-658e3f07d89b",
   "metadata": {},
   "outputs": [
    {
     "data": {
      "text/plain": [
       "'\\nGoal:\\nCreate a chatbot interface using Streamlit that:\\n- Accepts natural language questions\\n- Uses fine-tuned LLaMA 2 to respond with investor-ready insights\\n- Pulls in current or selected date’s data from your dataset\\n'"
      ]
     },
     "execution_count": 1,
     "metadata": {},
     "output_type": "execute_result"
    }
   ],
   "source": [
    "# VesterAI - Notebook 08: Streamlit Chatbot App\n",
    "\n",
    "\"\"\"\n",
    "Goal:\n",
    "Create a chatbot interface using Streamlit that:\n",
    "- Accepts natural language questions\n",
    "- Uses fine-tuned LLaMA 2 to respond with investor-ready insights\n",
    "- Pulls in current or selected date’s data from your dataset\n",
    "\"\"\""
   ]
  },
  {
   "cell_type": "code",
   "execution_count": 7,
   "id": "145dc375-9c49-47f0-9fac-265cc95a44b6",
   "metadata": {},
   "outputs": [
    {
     "data": {
      "application/vnd.jupyter.widget-view+json": {
       "model_id": "e6a4a0f6a6bd49f48fc871370d82141a",
       "version_major": 2,
       "version_minor": 0
      },
      "text/plain": [
       "Loading checkpoint shards:   0%|          | 0/2 [00:00<?, ?it/s]"
      ]
     },
     "metadata": {},
     "output_type": "display_data"
    },
    {
     "name": "stderr",
     "output_type": "stream",
     "text": [
      "/home/tandel.r/.local/lib/python3.8/site-packages/peft/peft_model.py:556: FutureWarning: You are using `torch.load` with `weights_only=False` (the current default value), which uses the default pickle module implicitly. It is possible to construct malicious pickle data which will execute arbitrary code during unpickling (See https://github.com/pytorch/pytorch/blob/main/SECURITY.md#untrusted-models for more details). In a future release, the default value for `weights_only` will be flipped to `True`. This limits the functions that could be executed during unpickling. Arbitrary objects will no longer be allowed to be loaded via this mode unless they are explicitly allowlisted by the user via `torch.serialization.add_safe_globals`. We recommend you start setting `weights_only=True` for any use case where you don't have full control of the loaded file. Please open an issue on GitHub for any issues related to this experimental feature.\n",
      "  adapters_weights = torch.load(\n"
     ]
    }
   ],
   "source": [
    "from transformers import AutoTokenizer, AutoModelForCausalLM\n",
    "from peft import PeftModel, PeftConfig\n",
    "\n",
    "# Step 1: Load PEFT config\n",
    "peft_model_path = \"../models/llama2_finetuned\"\n",
    "peft_config = PeftConfig.from_pretrained(peft_model_path)\n",
    "\n",
    "# Step 2: Load base model (same one used during fine-tuning)\n",
    "base_model = AutoModelForCausalLM.from_pretrained(\n",
    "    peft_config.base_model_name_or_path,\n",
    "    device_map=\"auto\",\n",
    "    trust_remote_code=True,\n",
    "    load_in_4bit=True\n",
    ")\n",
    "\n",
    "# Step 3: Load LoRA adapter weights\n",
    "model = PeftModel.from_pretrained(base_model, peft_model_path)\n",
    "\n",
    "# Step 4: Load tokenizer\n",
    "tokenizer = AutoTokenizer.from_pretrained(peft_config.base_model_name_or_path)"
   ]
  },
  {
   "cell_type": "code",
   "execution_count": 8,
   "id": "c8101602-0c7e-4932-8d9c-d838c4c2a97b",
   "metadata": {},
   "outputs": [],
   "source": [
    "import pandas as pd\n",
    "\n",
    "df = pd.read_csv(\"../data/processed/AAPL_model_data.csv\", parse_dates=[\"Date\"])\n",
    "df = df.sort_values(\"Date\").reset_index(drop=True)\n",
    "\n",
    "# Use most recent data row\n",
    "latest = df.iloc[-1]"
   ]
  },
  {
   "cell_type": "code",
   "execution_count": 9,
   "id": "c9598132-ca03-4764-b84c-33f3c2cc6aec",
   "metadata": {},
   "outputs": [],
   "source": [
    "def build_prompt(user_question, row):\n",
    "    context = f\"\"\"Date: {row['Date'].strftime('%Y-%m-%d')}\n",
    "Stock Close: {row['Close']:.2f}\n",
    "Return: {row['return']:.4f}\n",
    "Twitter Sentiment: {row['twitter_sentiment']:.2f}\n",
    "News Sentiment: {row['news_sentiment']:.2f}\n",
    "Reddit Sentiment: {row.get('reddit_sentiment', 0):.2f}\n",
    "RSI: {row['rsi_14']:.2f}\n",
    "MACD: {row['macd']:.4f}\n",
    "OBV: {row['obv']:.2f}\"\"\"\n",
    "\n",
    "    return f\"\"\"### Instruction:\n",
    "{user_question}\n",
    "\n",
    "### Input:\n",
    "{context}\n",
    "\n",
    "### Response:\n",
    "\"\"\""
   ]
  },
  {
   "cell_type": "code",
   "execution_count": 10,
   "id": "54ae7840-1d51-4ebc-91ad-1110a9a20b29",
   "metadata": {},
   "outputs": [],
   "source": [
    "def get_llm_response(question, row):\n",
    "    prompt = build_prompt(question, row)\n",
    "    output = llm(prompt, max_new_tokens=200)[0][\"generated_text\"]\n",
    "    return output.replace(prompt, \"\").strip()"
   ]
  },
  {
   "cell_type": "code",
   "execution_count": 12,
   "id": "b8000b02-de08-40f3-b419-180f5cd7603e",
   "metadata": {},
   "outputs": [
    {
     "name": "stdout",
     "output_type": "stream",
     "text": [
      "Defaulting to user installation because normal site-packages is not writeable\n",
      "Collecting streamlit\n",
      "  Downloading streamlit-1.40.1-py2.py3-none-any.whl (8.6 MB)\n",
      "\u001b[K     |████████████████████████████████| 8.6 MB 3.7 MB/s eta 0:00:01\n",
      "\u001b[?25hCollecting gitpython!=3.1.19,<4,>=3.0.7\n",
      "  Downloading GitPython-3.1.44-py3-none-any.whl (207 kB)\n",
      "\u001b[K     |████████████████████████████████| 207 kB 119.9 MB/s eta 0:00:01\n",
      "\u001b[?25hRequirement already satisfied: typing-extensions<5,>=4.3.0 in /home/tandel.r/.local/lib/python3.8/site-packages (from streamlit) (4.12.2)\n",
      "Collecting blinker<2,>=1.0.0\n",
      "  Downloading blinker-1.8.2-py3-none-any.whl (9.5 kB)\n",
      "Requirement already satisfied: cachetools<6,>=4.0 in /home/tandel.r/.local/lib/python3.8/site-packages (from streamlit) (5.5.2)\n",
      "Collecting altair<6,>=4.0\n",
      "  Downloading altair-5.4.1-py3-none-any.whl (658 kB)\n",
      "\u001b[K     |████████████████████████████████| 658 kB 47.6 MB/s eta 0:00:01\n",
      "\u001b[?25hRequirement already satisfied: tornado<7,>=6.0.3 in /home/tandel.r/.local/lib/python3.8/site-packages (from streamlit) (6.4.2)\n",
      "Requirement already satisfied: pillow<12,>=7.1.0 in /shared/centos7/anaconda3/2021.05/lib/python3.8/site-packages (from streamlit) (8.2.0)\n",
      "Requirement already satisfied: packaging<25,>=20 in /home/tandel.r/.local/lib/python3.8/site-packages (from streamlit) (24.2)\n",
      "Collecting watchdog<7,>=2.1.5\n",
      "  Downloading watchdog-4.0.2-py3-none-manylinux2014_x86_64.whl (82 kB)\n",
      "\u001b[K     |████████████████████████████████| 82 kB 331 kB/s s eta 0:00:01\n",
      "\u001b[?25hRequirement already satisfied: numpy<3,>=1.20 in /home/tandel.r/.local/lib/python3.8/site-packages (from streamlit) (1.24.4)\n",
      "Requirement already satisfied: pandas<3,>=1.4.0 in /home/tandel.r/.local/lib/python3.8/site-packages (from streamlit) (2.0.3)\n",
      "Requirement already satisfied: pyarrow>=7.0 in /home/tandel.r/.local/lib/python3.8/site-packages (from streamlit) (17.0.0)\n",
      "Requirement already satisfied: requests<3,>=2.27 in /home/tandel.r/.local/lib/python3.8/site-packages (from streamlit) (2.32.3)\n",
      "Requirement already satisfied: click<9,>=7.0 in /home/tandel.r/.local/lib/python3.8/site-packages (from streamlit) (8.1.8)\n",
      "Collecting pydeck<1,>=0.8.0b4\n",
      "  Downloading pydeck-0.9.1-py2.py3-none-any.whl (6.9 MB)\n",
      "\u001b[K     |████████████████████████████████| 6.9 MB 84.4 MB/s eta 0:00:01\n",
      "\u001b[?25hRequirement already satisfied: tenacity<10,>=8.1.0 in /home/tandel.r/.local/lib/python3.8/site-packages (from streamlit) (8.5.0)\n",
      "Requirement already satisfied: toml<2,>=0.10.1 in /shared/centos7/anaconda3/2021.05/lib/python3.8/site-packages (from streamlit) (0.10.2)\n",
      "Requirement already satisfied: rich<14,>=10.14.0 in /home/tandel.r/.local/lib/python3.8/site-packages (from streamlit) (13.9.4)\n",
      "Requirement already satisfied: protobuf<6,>=3.20 in /home/tandel.r/.local/lib/python3.8/site-packages (from streamlit) (5.29.3)\n",
      "Requirement already satisfied: jinja2 in /home/tandel.r/.local/lib/python3.8/site-packages (from altair<6,>=4.0->streamlit) (3.1.5)\n",
      "Requirement already satisfied: jsonschema>=3.0 in /home/tandel.r/.local/lib/python3.8/site-packages (from altair<6,>=4.0->streamlit) (4.23.0)\n",
      "Collecting narwhals>=1.5.2\n",
      "  Downloading narwhals-1.32.0-py3-none-any.whl (320 kB)\n",
      "\u001b[K     |████████████████████████████████| 320 kB 88.6 MB/s eta 0:00:01\n",
      "\u001b[?25hCollecting gitdb<5,>=4.0.1\n",
      "  Downloading gitdb-4.0.12-py3-none-any.whl (62 kB)\n",
      "\u001b[K     |████████████████████████████████| 62 kB 423 kB/s  eta 0:00:01\n",
      "\u001b[?25hCollecting smmap<6,>=3.0.1\n",
      "  Downloading smmap-5.0.2-py3-none-any.whl (24 kB)\n",
      "Requirement already satisfied: pkgutil-resolve-name>=1.3.10 in /home/tandel.r/.local/lib/python3.8/site-packages (from jsonschema>=3.0->altair<6,>=4.0->streamlit) (1.3.10)\n",
      "Requirement already satisfied: referencing>=0.28.4 in /home/tandel.r/.local/lib/python3.8/site-packages (from jsonschema>=3.0->altair<6,>=4.0->streamlit) (0.35.1)\n",
      "Requirement already satisfied: importlib-resources>=1.4.0 in /home/tandel.r/.local/lib/python3.8/site-packages (from jsonschema>=3.0->altair<6,>=4.0->streamlit) (6.4.5)\n",
      "Requirement already satisfied: attrs>=22.2.0 in /home/tandel.r/.local/lib/python3.8/site-packages (from jsonschema>=3.0->altair<6,>=4.0->streamlit) (25.1.0)\n",
      "Requirement already satisfied: jsonschema-specifications>=2023.03.6 in /home/tandel.r/.local/lib/python3.8/site-packages (from jsonschema>=3.0->altair<6,>=4.0->streamlit) (2023.12.1)\n",
      "Requirement already satisfied: rpds-py>=0.7.1 in /home/tandel.r/.local/lib/python3.8/site-packages (from jsonschema>=3.0->altair<6,>=4.0->streamlit) (0.20.1)\n",
      "Requirement already satisfied: zipp>=3.1.0 in /home/tandel.r/.local/lib/python3.8/site-packages (from importlib-resources>=1.4.0->jsonschema>=3.0->altair<6,>=4.0->streamlit) (3.20.2)\n",
      "Requirement already satisfied: tzdata>=2022.1 in /home/tandel.r/.local/lib/python3.8/site-packages (from pandas<3,>=1.4.0->streamlit) (2025.1)\n",
      "Requirement already satisfied: python-dateutil>=2.8.2 in /home/tandel.r/.local/lib/python3.8/site-packages (from pandas<3,>=1.4.0->streamlit) (2.9.0.post0)\n",
      "Requirement already satisfied: pytz>=2020.1 in /home/tandel.r/.local/lib/python3.8/site-packages (from pandas<3,>=1.4.0->streamlit) (2025.2)\n",
      "Requirement already satisfied: MarkupSafe>=2.0 in /home/tandel.r/.local/lib/python3.8/site-packages (from jinja2->altair<6,>=4.0->streamlit) (2.1.5)\n",
      "Requirement already satisfied: six>=1.5 in /shared/centos7/anaconda3/2021.05/lib/python3.8/site-packages (from python-dateutil>=2.8.2->pandas<3,>=1.4.0->streamlit) (1.15.0)\n",
      "Requirement already satisfied: certifi>=2017.4.17 in /shared/centos7/anaconda3/2021.05/lib/python3.8/site-packages (from requests<3,>=2.27->streamlit) (2020.12.5)\n",
      "Requirement already satisfied: charset-normalizer<4,>=2 in /home/tandel.r/.local/lib/python3.8/site-packages (from requests<3,>=2.27->streamlit) (3.4.1)\n",
      "Requirement already satisfied: urllib3<3,>=1.21.1 in /shared/centos7/anaconda3/2021.05/lib/python3.8/site-packages (from requests<3,>=2.27->streamlit) (1.26.4)\n",
      "Requirement already satisfied: idna<4,>=2.5 in /shared/centos7/anaconda3/2021.05/lib/python3.8/site-packages (from requests<3,>=2.27->streamlit) (2.10)\n",
      "Requirement already satisfied: pygments<3.0.0,>=2.13.0 in /home/tandel.r/.local/lib/python3.8/site-packages (from rich<14,>=10.14.0->streamlit) (2.19.1)\n",
      "Requirement already satisfied: markdown-it-py>=2.2.0 in /home/tandel.r/.local/lib/python3.8/site-packages (from rich<14,>=10.14.0->streamlit) (3.0.0)\n",
      "Requirement already satisfied: mdurl~=0.1 in /home/tandel.r/.local/lib/python3.8/site-packages (from markdown-it-py>=2.2.0->rich<14,>=10.14.0->streamlit) (0.1.2)\n",
      "Installing collected packages: smmap, narwhals, gitdb, watchdog, pydeck, gitpython, blinker, altair, streamlit\n",
      "\u001b[31mERROR: pip's dependency resolver does not currently take into account all the packages that are installed. This behaviour is the source of the following dependency conflicts.\n",
      "spyder 4.2.5 requires pyqt5<5.13, which is not installed.\n",
      "spyder 4.2.5 requires pyqtwebengine<5.13, which is not installed.\n",
      "spyder 4.2.5 requires watchdog<2.0.0,>=0.10.3, but you have watchdog 4.0.2 which is incompatible.\u001b[0m\n",
      "Successfully installed altair-5.4.1 blinker-1.8.2 gitdb-4.0.12 gitpython-3.1.44 narwhals-1.32.0 pydeck-0.9.1 smmap-5.0.2 streamlit-1.40.1 watchdog-4.0.2\n"
     ]
    }
   ],
   "source": [
    "!pip install streamlit"
   ]
  },
  {
   "cell_type": "code",
   "execution_count": 13,
   "id": "79d0d34f-ff34-4094-bdeb-c8e64924fa41",
   "metadata": {},
   "outputs": [
    {
     "name": "stderr",
     "output_type": "stream",
     "text": [
      "2025-03-25 22:30:47.801 WARNING streamlit.runtime.scriptrunner_utils.script_run_context: Thread 'MainThread': missing ScriptRunContext! This warning can be ignored when running in bare mode.\n",
      "2025-03-25 22:30:47.874 \n",
      "  \u001b[33m\u001b[1mWarning:\u001b[0m to view this Streamlit app on a browser, run it with the following\n",
      "  command:\n",
      "\n",
      "    streamlit run /home/tandel.r/.local/lib/python3.8/site-packages/ipykernel_launcher.py [ARGUMENTS]\n",
      "2025-03-25 22:30:47.875 Thread 'MainThread': missing ScriptRunContext! This warning can be ignored when running in bare mode.\n",
      "2025-03-25 22:30:47.876 Thread 'MainThread': missing ScriptRunContext! This warning can be ignored when running in bare mode.\n",
      "2025-03-25 22:30:47.876 Thread 'MainThread': missing ScriptRunContext! This warning can be ignored when running in bare mode.\n",
      "2025-03-25 22:30:47.877 Thread 'MainThread': missing ScriptRunContext! This warning can be ignored when running in bare mode.\n",
      "2025-03-25 22:30:47.877 Thread 'MainThread': missing ScriptRunContext! This warning can be ignored when running in bare mode.\n",
      "2025-03-25 22:30:47.877 Session state does not function when running a script without `streamlit run`\n",
      "2025-03-25 22:30:47.878 Thread 'MainThread': missing ScriptRunContext! This warning can be ignored when running in bare mode.\n",
      "2025-03-25 22:30:47.878 Thread 'MainThread': missing ScriptRunContext! This warning can be ignored when running in bare mode.\n",
      "2025-03-25 22:30:47.879 Thread 'MainThread': missing ScriptRunContext! This warning can be ignored when running in bare mode.\n",
      "2025-03-25 22:30:47.879 Thread 'MainThread': missing ScriptRunContext! This warning can be ignored when running in bare mode.\n",
      "2025-03-25 22:30:47.879 Thread 'MainThread': missing ScriptRunContext! This warning can be ignored when running in bare mode.\n",
      "2025-03-25 22:30:47.880 Thread 'MainThread': missing ScriptRunContext! This warning can be ignored when running in bare mode.\n",
      "2025-03-25 22:30:47.880 Thread 'MainThread': missing ScriptRunContext! This warning can be ignored when running in bare mode.\n"
     ]
    }
   ],
   "source": [
    "import streamlit as st\n",
    "\n",
    "st.title(\"VesterAI - Financial Sentiment Chatbot\")\n",
    "\n",
    "user_input = st.text_input(\"Ask a question about today's market sentiment or outlook:\")\n",
    "\n",
    "if st.button(\"Generate Insight\"):\n",
    "    if user_input:\n",
    "        response = get_llm_response(user_input, latest)\n",
    "        st.write(\"**Response:**\")\n",
    "        st.markdown(response)\n",
    "    else:\n",
    "        st.warning(\"Please enter a question.\")"
   ]
  },
  {
   "cell_type": "code",
   "execution_count": 24,
   "id": "1ce0652e-384b-42c4-96ba-891a2e6380f5",
   "metadata": {},
   "outputs": [
    {
     "name": "stdout",
     "output_type": "stream",
     "text": [
      "Usage: streamlit [OPTIONS] COMMAND [ARGS]...\n",
      "Try 'streamlit --help' for help.\n",
      "\n",
      "Error: No such command 'run/.scratch/tandel.r/VesterAI/streamlit_app/app.py'.\n"
     ]
    }
   ],
   "source": []
  },
  {
   "cell_type": "code",
   "execution_count": 26,
   "id": "547c01ab-4277-4434-8e1e-cdea027c2746",
   "metadata": {},
   "outputs": [
    {
     "name": "stdout",
     "output_type": "stream",
     "text": [
      "/bin/bash: vesterai-env\\Scripts\\activate: command not found\n"
     ]
    }
   ],
   "source": [
    "!python -m venv vesterai-env\n",
    "!vesterai-env\\\\Scripts\\\\activate    "
   ]
  },
  {
   "cell_type": "code",
   "execution_count": 27,
   "id": "fbd729fc-51f7-435d-8ef0-7c4e18266b87",
   "metadata": {},
   "outputs": [
    {
     "name": "stdout",
     "output_type": "stream",
     "text": [
      "Defaulting to user installation because normal site-packages is not writeable\n",
      "Requirement already satisfied: streamlit in /home/tandel.r/.local/lib/python3.8/site-packages (1.40.1)\n",
      "Requirement already satisfied: transformers in /home/tandel.r/.local/lib/python3.8/site-packages (4.31.0)\n",
      "Requirement already satisfied: peft in /home/tandel.r/.local/lib/python3.8/site-packages (0.4.0)\n",
      "Requirement already satisfied: bitsandbytes in /home/tandel.r/.local/lib/python3.8/site-packages (0.40.2)\n",
      "Requirement already satisfied: accelerate in /home/tandel.r/.local/lib/python3.8/site-packages (0.21.0)\n",
      "Requirement already satisfied: pandas in /home/tandel.r/.local/lib/python3.8/site-packages (2.0.3)\n",
      "Requirement already satisfied: torch>=1.10.0 in /home/tandel.r/.local/lib/python3.8/site-packages (from accelerate) (2.4.1)\n",
      "Requirement already satisfied: numpy>=1.17 in /home/tandel.r/.local/lib/python3.8/site-packages (from accelerate) (1.24.4)\n",
      "Requirement already satisfied: packaging>=20.0 in /home/tandel.r/.local/lib/python3.8/site-packages (from accelerate) (24.2)\n",
      "Requirement already satisfied: psutil in /shared/centos7/anaconda3/2021.05/lib/python3.8/site-packages (from accelerate) (5.8.0)\n",
      "Requirement already satisfied: pyyaml in /home/tandel.r/.local/lib/python3.8/site-packages (from accelerate) (6.0.2)\n",
      "Requirement already satisfied: fsspec in /home/tandel.r/.local/lib/python3.8/site-packages (from torch>=1.10.0->accelerate) (2024.9.0)\n",
      "Requirement already satisfied: nvidia-cuda-runtime-cu12==12.1.105 in /home/tandel.r/.local/lib/python3.8/site-packages (from torch>=1.10.0->accelerate) (12.1.105)\n",
      "Requirement already satisfied: networkx in /shared/centos7/anaconda3/2021.05/lib/python3.8/site-packages (from torch>=1.10.0->accelerate) (2.5)\n",
      "Requirement already satisfied: nvidia-cublas-cu12==12.1.3.1 in /home/tandel.r/.local/lib/python3.8/site-packages (from torch>=1.10.0->accelerate) (12.1.3.1)\n",
      "Requirement already satisfied: nvidia-nccl-cu12==2.20.5 in /home/tandel.r/.local/lib/python3.8/site-packages (from torch>=1.10.0->accelerate) (2.20.5)\n",
      "Requirement already satisfied: nvidia-nvtx-cu12==12.1.105 in /home/tandel.r/.local/lib/python3.8/site-packages (from torch>=1.10.0->accelerate) (12.1.105)\n",
      "Requirement already satisfied: typing-extensions>=4.8.0 in /home/tandel.r/.local/lib/python3.8/site-packages (from torch>=1.10.0->accelerate) (4.12.2)\n",
      "Requirement already satisfied: jinja2 in /home/tandel.r/.local/lib/python3.8/site-packages (from torch>=1.10.0->accelerate) (3.1.5)\n",
      "Requirement already satisfied: nvidia-cusparse-cu12==12.1.0.106 in /home/tandel.r/.local/lib/python3.8/site-packages (from torch>=1.10.0->accelerate) (12.1.0.106)\n",
      "Requirement already satisfied: filelock in /shared/centos7/anaconda3/2021.05/lib/python3.8/site-packages (from torch>=1.10.0->accelerate) (3.0.12)\n",
      "Requirement already satisfied: nvidia-cuda-nvrtc-cu12==12.1.105 in /home/tandel.r/.local/lib/python3.8/site-packages (from torch>=1.10.0->accelerate) (12.1.105)\n",
      "Requirement already satisfied: nvidia-cuda-cupti-cu12==12.1.105 in /home/tandel.r/.local/lib/python3.8/site-packages (from torch>=1.10.0->accelerate) (12.1.105)\n",
      "Requirement already satisfied: nvidia-cusolver-cu12==11.4.5.107 in /home/tandel.r/.local/lib/python3.8/site-packages (from torch>=1.10.0->accelerate) (11.4.5.107)\n",
      "Requirement already satisfied: nvidia-cudnn-cu12==9.1.0.70 in /home/tandel.r/.local/lib/python3.8/site-packages (from torch>=1.10.0->accelerate) (9.1.0.70)\n",
      "Requirement already satisfied: nvidia-cufft-cu12==11.0.2.54 in /home/tandel.r/.local/lib/python3.8/site-packages (from torch>=1.10.0->accelerate) (11.0.2.54)\n",
      "Requirement already satisfied: nvidia-curand-cu12==10.3.2.106 in /home/tandel.r/.local/lib/python3.8/site-packages (from torch>=1.10.0->accelerate) (10.3.2.106)\n",
      "Requirement already satisfied: sympy in /shared/centos7/anaconda3/2021.05/lib/python3.8/site-packages (from torch>=1.10.0->accelerate) (1.8)\n",
      "Requirement already satisfied: triton==3.0.0 in /home/tandel.r/.local/lib/python3.8/site-packages (from torch>=1.10.0->accelerate) (3.0.0)\n",
      "Requirement already satisfied: nvidia-nvjitlink-cu12 in /home/tandel.r/.local/lib/python3.8/site-packages (from nvidia-cusolver-cu12==11.4.5.107->torch>=1.10.0->accelerate) (12.8.61)\n",
      "Requirement already satisfied: pytz>=2020.1 in /home/tandel.r/.local/lib/python3.8/site-packages (from pandas) (2025.2)\n",
      "Requirement already satisfied: tzdata>=2022.1 in /home/tandel.r/.local/lib/python3.8/site-packages (from pandas) (2025.1)\n",
      "Requirement already satisfied: python-dateutil>=2.8.2 in /home/tandel.r/.local/lib/python3.8/site-packages (from pandas) (2.9.0.post0)\n",
      "Requirement already satisfied: six>=1.5 in /shared/centos7/anaconda3/2021.05/lib/python3.8/site-packages (from python-dateutil>=2.8.2->pandas) (1.15.0)\n",
      "Requirement already satisfied: safetensors in /home/tandel.r/.local/lib/python3.8/site-packages (from peft) (0.5.3)\n",
      "Requirement already satisfied: rich<14,>=10.14.0 in /home/tandel.r/.local/lib/python3.8/site-packages (from streamlit) (13.9.4)\n",
      "Requirement already satisfied: toml<2,>=0.10.1 in /shared/centos7/anaconda3/2021.05/lib/python3.8/site-packages (from streamlit) (0.10.2)\n",
      "Requirement already satisfied: tenacity<10,>=8.1.0 in /home/tandel.r/.local/lib/python3.8/site-packages (from streamlit) (8.5.0)\n",
      "Requirement already satisfied: tornado<7,>=6.0.3 in /home/tandel.r/.local/lib/python3.8/site-packages (from streamlit) (6.4.2)\n",
      "Requirement already satisfied: blinker<2,>=1.0.0 in /home/tandel.r/.local/lib/python3.8/site-packages (from streamlit) (1.8.2)\n",
      "Requirement already satisfied: protobuf<6,>=3.20 in /home/tandel.r/.local/lib/python3.8/site-packages (from streamlit) (5.29.3)\n",
      "Requirement already satisfied: gitpython!=3.1.19,<4,>=3.0.7 in /home/tandel.r/.local/lib/python3.8/site-packages (from streamlit) (3.1.44)\n",
      "Requirement already satisfied: pyarrow>=7.0 in /home/tandel.r/.local/lib/python3.8/site-packages (from streamlit) (17.0.0)\n",
      "Requirement already satisfied: pydeck<1,>=0.8.0b4 in /home/tandel.r/.local/lib/python3.8/site-packages (from streamlit) (0.9.1)\n",
      "Requirement already satisfied: pillow<12,>=7.1.0 in /shared/centos7/anaconda3/2021.05/lib/python3.8/site-packages (from streamlit) (8.2.0)\n",
      "Requirement already satisfied: watchdog<7,>=2.1.5 in /home/tandel.r/.local/lib/python3.8/site-packages (from streamlit) (4.0.2)\n",
      "Requirement already satisfied: cachetools<6,>=4.0 in /home/tandel.r/.local/lib/python3.8/site-packages (from streamlit) (5.5.2)\n",
      "Requirement already satisfied: click<9,>=7.0 in /home/tandel.r/.local/lib/python3.8/site-packages (from streamlit) (8.1.8)\n",
      "Requirement already satisfied: requests<3,>=2.27 in /home/tandel.r/.local/lib/python3.8/site-packages (from streamlit) (2.32.3)\n",
      "Requirement already satisfied: altair<6,>=4.0 in /home/tandel.r/.local/lib/python3.8/site-packages (from streamlit) (5.4.1)\n",
      "Requirement already satisfied: narwhals>=1.5.2 in /home/tandel.r/.local/lib/python3.8/site-packages (from altair<6,>=4.0->streamlit) (1.32.0)\n",
      "Requirement already satisfied: jsonschema>=3.0 in /home/tandel.r/.local/lib/python3.8/site-packages (from altair<6,>=4.0->streamlit) (4.23.0)\n",
      "Requirement already satisfied: gitdb<5,>=4.0.1 in /home/tandel.r/.local/lib/python3.8/site-packages (from gitpython!=3.1.19,<4,>=3.0.7->streamlit) (4.0.12)\n",
      "Requirement already satisfied: smmap<6,>=3.0.1 in /home/tandel.r/.local/lib/python3.8/site-packages (from gitdb<5,>=4.0.1->gitpython!=3.1.19,<4,>=3.0.7->streamlit) (5.0.2)\n",
      "Requirement already satisfied: pkgutil-resolve-name>=1.3.10 in /home/tandel.r/.local/lib/python3.8/site-packages (from jsonschema>=3.0->altair<6,>=4.0->streamlit) (1.3.10)\n",
      "Requirement already satisfied: rpds-py>=0.7.1 in /home/tandel.r/.local/lib/python3.8/site-packages (from jsonschema>=3.0->altair<6,>=4.0->streamlit) (0.20.1)\n",
      "Requirement already satisfied: importlib-resources>=1.4.0 in /home/tandel.r/.local/lib/python3.8/site-packages (from jsonschema>=3.0->altair<6,>=4.0->streamlit) (6.4.5)\n",
      "Requirement already satisfied: jsonschema-specifications>=2023.03.6 in /home/tandel.r/.local/lib/python3.8/site-packages (from jsonschema>=3.0->altair<6,>=4.0->streamlit) (2023.12.1)\n",
      "Requirement already satisfied: attrs>=22.2.0 in /home/tandel.r/.local/lib/python3.8/site-packages (from jsonschema>=3.0->altair<6,>=4.0->streamlit) (25.1.0)\n",
      "Requirement already satisfied: referencing>=0.28.4 in /home/tandel.r/.local/lib/python3.8/site-packages (from jsonschema>=3.0->altair<6,>=4.0->streamlit) (0.35.1)\n",
      "Requirement already satisfied: zipp>=3.1.0 in /home/tandel.r/.local/lib/python3.8/site-packages (from importlib-resources>=1.4.0->jsonschema>=3.0->altair<6,>=4.0->streamlit) (3.20.2)\n",
      "Requirement already satisfied: MarkupSafe>=2.0 in /home/tandel.r/.local/lib/python3.8/site-packages (from jinja2->torch>=1.10.0->accelerate) (2.1.5)\n",
      "Requirement already satisfied: idna<4,>=2.5 in /shared/centos7/anaconda3/2021.05/lib/python3.8/site-packages (from requests<3,>=2.27->streamlit) (2.10)\n",
      "Requirement already satisfied: charset-normalizer<4,>=2 in /home/tandel.r/.local/lib/python3.8/site-packages (from requests<3,>=2.27->streamlit) (3.4.1)\n",
      "Requirement already satisfied: urllib3<3,>=1.21.1 in /shared/centos7/anaconda3/2021.05/lib/python3.8/site-packages (from requests<3,>=2.27->streamlit) (1.26.4)\n",
      "Requirement already satisfied: certifi>=2017.4.17 in /shared/centos7/anaconda3/2021.05/lib/python3.8/site-packages (from requests<3,>=2.27->streamlit) (2020.12.5)\n",
      "Requirement already satisfied: pygments<3.0.0,>=2.13.0 in /home/tandel.r/.local/lib/python3.8/site-packages (from rich<14,>=10.14.0->streamlit) (2.19.1)\n",
      "Requirement already satisfied: markdown-it-py>=2.2.0 in /home/tandel.r/.local/lib/python3.8/site-packages (from rich<14,>=10.14.0->streamlit) (3.0.0)\n",
      "Requirement already satisfied: mdurl~=0.1 in /home/tandel.r/.local/lib/python3.8/site-packages (from markdown-it-py>=2.2.0->rich<14,>=10.14.0->streamlit) (0.1.2)\n",
      "Requirement already satisfied: tokenizers!=0.11.3,<0.14,>=0.11.1 in /home/tandel.r/.local/lib/python3.8/site-packages (from transformers) (0.13.3)\n",
      "Requirement already satisfied: huggingface-hub<1.0,>=0.14.1 in /home/tandel.r/.local/lib/python3.8/site-packages (from transformers) (0.29.1)\n",
      "Requirement already satisfied: tqdm>=4.27 in /home/tandel.r/.local/lib/python3.8/site-packages (from transformers) (4.67.1)\n",
      "Requirement already satisfied: regex!=2019.12.17 in /home/tandel.r/.local/lib/python3.8/site-packages (from transformers) (2024.11.6)\n",
      "Requirement already satisfied: decorator>=4.3.0 in /shared/centos7/anaconda3/2021.05/lib/python3.8/site-packages (from networkx->torch>=1.10.0->accelerate) (5.0.6)\n",
      "Requirement already satisfied: mpmath>=0.19 in /shared/centos7/anaconda3/2021.05/lib/python3.8/site-packages (from sympy->torch>=1.10.0->accelerate) (1.2.1)\n"
     ]
    }
   ],
   "source": [
    "!pip install streamlit transformers peft bitsandbytes accelerate pandas"
   ]
  },
  {
   "cell_type": "code",
   "execution_count": 1,
   "id": "78391862-d9a0-438e-b629-054fc1505cbf",
   "metadata": {},
   "outputs": [
    {
     "name": "stdout",
     "output_type": "stream",
     "text": [
      "/scratch/tandel.r/VesterAI\n"
     ]
    }
   ],
   "source": [
    "%cd .."
   ]
  },
  {
   "cell_type": "code",
   "execution_count": 2,
   "id": "5fd8ac40-5df8-4fef-b4af-ca27899fb5ba",
   "metadata": {},
   "outputs": [
    {
     "name": "stdout",
     "output_type": "stream",
     "text": [
      "/bin/bash: /scratch/tandel.r/VesterAI: Is a directory\n"
     ]
    }
   ],
   "source": [
    "!/scratch/tandel.r/VesterAI"
   ]
  },
  {
   "cell_type": "code",
   "execution_count": null,
   "id": "19c8bf2e-3b99-4f54-8b57-33d3a1c34981",
   "metadata": {},
   "outputs": [
    {
     "name": "stdout",
     "output_type": "stream",
     "text": [
      "/scratch/tandel.r/VesterAI/streamlit_app\n"
     ]
    }
   ],
   "source": [
    "%cd streamlit_app\n",
    "!streamlit run app.py"
   ]
  },
  {
   "cell_type": "code",
   "execution_count": null,
   "id": "1952f4c2-5840-4fc2-ae00-485574eaa358",
   "metadata": {},
   "outputs": [],
   "source": []
  }
 ],
 "metadata": {
  "kernelspec": {
   "display_name": "Python 3 (ipykernel)",
   "language": "python",
   "name": "python3"
  },
  "language_info": {
   "codemirror_mode": {
    "name": "ipython",
    "version": 3
   },
   "file_extension": ".py",
   "mimetype": "text/x-python",
   "name": "python",
   "nbconvert_exporter": "python",
   "pygments_lexer": "ipython3",
   "version": "3.8.8"
  }
 },
 "nbformat": 4,
 "nbformat_minor": 5
}
